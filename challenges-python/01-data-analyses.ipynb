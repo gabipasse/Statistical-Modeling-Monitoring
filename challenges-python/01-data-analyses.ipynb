{
  "cells": [
    {
      "cell_type": "markdown",
      "metadata": {
        "id": "_gYszWzLwIh6"
      },
      "source": [
        "# Kombat Tower: Data Analysis with Pandas\n",
        "\n",
        "[Kaggle Coffe Sales Dataset](https://www.kaggle.com/datasets/ihelon/coffee-sales)\n",
        "\n",
        "<img src=\"https://i.ytimg.com/vi/LzT2Q5hIh2U/hqdefault.jpg\" height=\"200\"/>"
      ]
    },
    {
      "cell_type": "markdown",
      "metadata": {
        "id": "12qIoVq-wmxD"
      },
      "source": [
        "# Round  1️⃣ - Importing and Exploring the Dataset, Fight!"
      ]
    },
    {
      "cell_type": "markdown",
      "metadata": {
        "id": "veRDNAqqw8zh"
      },
      "source": [
        "### Import the necessary libraries"
      ]
    },
    {
      "cell_type": "code",
      "execution_count": null,
      "metadata": {
        "id": "Vj1iE8tO5S8G"
      },
      "outputs": [],
      "source": []
    },
    {
      "cell_type": "markdown",
      "metadata": {
        "id": "X_c1kDpp5OLH"
      },
      "source": [
        "### Use pandas to load the dataset"
      ]
    },
    {
      "cell_type": "code",
      "execution_count": null,
      "metadata": {
        "id": "54vHQQIS5R2U"
      },
      "outputs": [],
      "source": []
    },
    {
      "cell_type": "markdown",
      "metadata": {
        "id": "-itqvZjp5PDi"
      },
      "source": [
        "### Display the first five rows of the dataset with `head()`"
      ]
    },
    {
      "cell_type": "code",
      "execution_count": null,
      "metadata": {
        "id": "WmAY0qCM5SOi"
      },
      "outputs": [],
      "source": []
    },
    {
      "cell_type": "markdown",
      "metadata": {
        "id": "nXD-vUtB5P79"
      },
      "source": [
        "### Display the total number of rows and columns in the dataset"
      ]
    },
    {
      "cell_type": "code",
      "execution_count": null,
      "metadata": {
        "id": "kjqbALOk5RY4"
      },
      "outputs": [],
      "source": []
    },
    {
      "cell_type": "markdown",
      "metadata": {
        "id": "4j0TWBFj5Qyl"
      },
      "source": [
        "### Use the `info()` method to get a summary of the dataset information"
      ]
    },
    {
      "cell_type": "code",
      "execution_count": null,
      "metadata": {
        "id": "F7XFLhHmyK7X"
      },
      "outputs": [],
      "source": []
    },
    {
      "cell_type": "markdown",
      "metadata": {
        "id": "gpXFaBNCwoeh"
      },
      "source": [
        "# Round 2️⃣ - Identifying the types of variables, fight!"
      ]
    },
    {
      "cell_type": "markdown",
      "metadata": {
        "id": "101t0Rywxhug"
      },
      "source": [
        "### Identify the `nominal qualitative` variables, if any"
      ]
    },
    {
      "cell_type": "code",
      "execution_count": null,
      "metadata": {
        "id": "6ZPyQNiN5EXD"
      },
      "outputs": [],
      "source": []
    },
    {
      "cell_type": "markdown",
      "metadata": {
        "id": "QvWjjJI65EhL"
      },
      "source": [
        "### Identify the `ordinal qualitative` variables, if any"
      ]
    },
    {
      "cell_type": "code",
      "execution_count": null,
      "metadata": {
        "id": "t_i6hFQE5Fij"
      },
      "outputs": [],
      "source": []
    },
    {
      "cell_type": "markdown",
      "metadata": {
        "id": "ldMvBHWr5Fq3"
      },
      "source": [
        "### Identify the `quantitative discrete` variables, if any"
      ]
    },
    {
      "cell_type": "code",
      "execution_count": null,
      "metadata": {
        "id": "YzZ83Pbo5G0l"
      },
      "outputs": [],
      "source": []
    },
    {
      "cell_type": "markdown",
      "metadata": {
        "id": "oautNffO5G6z"
      },
      "source": [
        "### Identify the `quantitative continuous` variables, if any"
      ]
    },
    {
      "cell_type": "code",
      "execution_count": null,
      "metadata": {
        "id": "tsIp5XmayKXL"
      },
      "outputs": [],
      "source": []
    },
    {
      "cell_type": "markdown",
      "metadata": {
        "id": "TNt2yFD6wq6K"
      },
      "source": [
        "# Round 3️⃣ - Manipulating the data, fight!"
      ]
    },
    {
      "cell_type": "markdown",
      "metadata": {
        "id": "Sp5sWElM46Xb"
      },
      "source": [
        "### Convert the `datetime` column from `object` to `datetime` type"
      ]
    },
    {
      "cell_type": "code",
      "execution_count": null,
      "metadata": {
        "id": "U4i_VD_r468r"
      },
      "outputs": [],
      "source": []
    },
    {
      "cell_type": "markdown",
      "metadata": {
        "id": "dsNNMZ-T48Rl"
      },
      "source": [
        "### Check and correct any other possible type errors in the dataset, if any"
      ]
    },
    {
      "cell_type": "code",
      "execution_count": null,
      "metadata": {
        "id": "OQ_e0Cg74_Va"
      },
      "outputs": [],
      "source": []
    },
    {
      "cell_type": "markdown",
      "metadata": {
        "id": "9gypzTPUyMSo"
      },
      "source": [
        "### Extract `time`, `date`, `month`, `week` from the `datetime` column and create new columns with this information"
      ]
    },
    {
      "cell_type": "code",
      "execution_count": null,
      "metadata": {
        "id": "yQpZAIMQySyw"
      },
      "outputs": [],
      "source": []
    },
    {
      "cell_type": "markdown",
      "metadata": {
        "id": "3ebR-LSAwrfs"
      },
      "source": [
        "# Round  4️⃣ - Analyzing and exploring the data, fight!"
      ]
    },
    {
      "cell_type": "markdown",
      "metadata": {
        "id": "BUXXbCf4FW17"
      },
      "source": [
        "## Choose your destiny: select 3 questions to answer from the options below. Plot a chart of your choice for visualization."
      ]
    },
    {
      "cell_type": "markdown",
      "metadata": {
        "id": "68EzAS9uFaHQ"
      },
      "source": [
        "### Identify the most chosen payment method by customers"
      ]
    },
    {
      "cell_type": "code",
      "execution_count": null,
      "metadata": {
        "id": "ok9oNSxY4ywQ"
      },
      "outputs": [],
      "source": []
    },
    {
      "cell_type": "markdown",
      "metadata": {
        "id": "NfHS9cL6FdF-"
      },
      "source": [
        "### Describe the distribution of payment types chosen by customers"
      ]
    },
    {
      "cell_type": "code",
      "execution_count": null,
      "metadata": {
        "id": "x_soMCYVFed7"
      },
      "outputs": [],
      "source": []
    },
    {
      "cell_type": "markdown",
      "metadata": {
        "id": "7ATIIk5tFei7"
      },
      "source": [
        "### Use the `month` column you created to determine which month generated the most profit"
      ]
    },
    {
      "cell_type": "code",
      "execution_count": null,
      "metadata": {
        "id": "daouekfnFguw"
      },
      "outputs": [],
      "source": []
    },
    {
      "cell_type": "markdown",
      "metadata": {
        "id": "YveGZfXPFg0N"
      },
      "source": [
        "### Determine which coffee is the most purchased by customers"
      ]
    },
    {
      "cell_type": "code",
      "execution_count": null,
      "metadata": {
        "id": "6PNz2pcPFia0"
      },
      "outputs": [],
      "source": []
    },
    {
      "cell_type": "markdown",
      "metadata": {
        "id": "h5IRlFfCFigS"
      },
      "source": [
        "### Find the total profit generated by each type of coffee"
      ]
    },
    {
      "cell_type": "code",
      "execution_count": null,
      "metadata": {
        "id": "8JVtMGFjFkiP"
      },
      "outputs": [],
      "source": []
    },
    {
      "cell_type": "markdown",
      "metadata": {
        "id": "AR6sjjFJFkoO"
      },
      "source": [
        "### Identify in which months the most popular coffee ranked first in sales"
      ]
    },
    {
      "cell_type": "code",
      "execution_count": null,
      "metadata": {
        "id": "YghHCqvyFlhQ"
      },
      "outputs": [],
      "source": []
    },
    {
      "cell_type": "markdown",
      "metadata": {
        "id": "J-SWK1OpwsXr"
      },
      "source": [
        "# Round 5️⃣ - Data cleaning, fight!"
      ]
    },
    {
      "cell_type": "markdown",
      "metadata": {
        "id": "UtF-WVTc4h29"
      },
      "source": [
        "### Check the need for cleaning or conversion in the `money` column"
      ]
    },
    {
      "cell_type": "code",
      "execution_count": null,
      "metadata": {
        "id": "aLDncZWo4gea"
      },
      "outputs": [],
      "source": []
    },
    {
      "cell_type": "markdown",
      "metadata": {
        "id": "ljXJxvC-4kFX"
      },
      "source": [
        "### Decide which measure of central tendency (mode, mean, median) is most appropriate for replacing missing values, and justify your choice"
      ]
    },
    {
      "cell_type": "code",
      "execution_count": null,
      "metadata": {
        "id": "69BlHpBi4ggM"
      },
      "outputs": [],
      "source": []
    },
    {
      "cell_type": "markdown",
      "metadata": {
        "id": "YQ4kaw0F4l8Z"
      },
      "source": [
        "### Replace the missing values considering the type of coffee (for instance, the mean for one type may differ from the mean for another type)"
      ]
    },
    {
      "cell_type": "code",
      "execution_count": null,
      "metadata": {
        "id": "-fDJjDOr4giB"
      },
      "outputs": [],
      "source": []
    },
    {
      "cell_type": "markdown",
      "metadata": {
        "id": "SUhzzESW4n43"
      },
      "source": [
        "### Check if there has been a change in the total profit generated by each type of coffee"
      ]
    },
    {
      "cell_type": "code",
      "execution_count": null,
      "metadata": {
        "id": "P_Ni1h3L4gj1"
      },
      "outputs": [],
      "source": []
    },
    {
      "cell_type": "markdown",
      "metadata": {
        "id": "3Qa26TrLzXqx"
      },
      "source": [
        "### Plot a chart of your choice to visualize the new information"
      ]
    },
    {
      "cell_type": "code",
      "execution_count": null,
      "metadata": {
        "id": "zFF6kZQk00Mr"
      },
      "outputs": [],
      "source": []
    },
    {
      "cell_type": "markdown",
      "metadata": {
        "id": "WLiW3G1ewsxM"
      },
      "source": [
        "# Round 6️⃣ - Generating insights, fight!"
      ]
    },
    {
      "cell_type": "markdown",
      "metadata": {
        "id": "2a0ECinvFtUR"
      },
      "source": [
        "## Choose your destiny: Select 3 questions to answer from the options below. Share your observations, the insights gained, and plot a chart of your choice for visualization."
      ]
    },
    {
      "cell_type": "markdown",
      "metadata": {
        "id": "r3enQVVaF31L"
      },
      "source": [
        "### Visualize the distribution of sales values"
      ]
    },
    {
      "cell_type": "code",
      "execution_count": null,
      "metadata": {
        "id": "6z5GB2nWF5yL"
      },
      "outputs": [],
      "source": []
    },
    {
      "cell_type": "markdown",
      "metadata": {
        "id": "VNrLeGe5F54c"
      },
      "source": [
        "### Check for seasonality in the data"
      ]
    },
    {
      "cell_type": "code",
      "execution_count": null,
      "metadata": {
        "id": "aaDGHHGPF7Pq"
      },
      "outputs": [],
      "source": []
    },
    {
      "cell_type": "markdown",
      "metadata": {
        "id": "ljHYr3CWF7UW"
      },
      "source": [
        "### Visualize the proportion of payment types"
      ]
    },
    {
      "cell_type": "code",
      "execution_count": null,
      "metadata": {
        "id": "1S4M-xCqF8_Y"
      },
      "outputs": [],
      "source": []
    },
    {
      "cell_type": "markdown",
      "metadata": {
        "id": "hG8VOW5oF9GL"
      },
      "source": [
        "### Perform the analysis of quartiles, median, and outliers"
      ]
    },
    {
      "cell_type": "code",
      "execution_count": null,
      "metadata": {
        "id": "vvYIrjf2F-Y8"
      },
      "outputs": [],
      "source": []
    },
    {
      "cell_type": "markdown",
      "metadata": {
        "id": "nwp5EcFqF-eL"
      },
      "source": [
        "### Perform the analysis of data dispersion"
      ]
    },
    {
      "cell_type": "code",
      "execution_count": null,
      "metadata": {
        "id": "94oz7U9SGBsc"
      },
      "outputs": [],
      "source": []
    },
    {
      "cell_type": "markdown",
      "metadata": {
        "id": "UFfxJp8JGAuN"
      },
      "source": [
        "### Perform the analysis of the standard deviation of the data"
      ]
    },
    {
      "cell_type": "code",
      "execution_count": null,
      "metadata": {
        "id": "bh_dN8Fn4r9h"
      },
      "outputs": [],
      "source": []
    },
    {
      "cell_type": "markdown",
      "metadata": {
        "id": "GOaqWIMl7kPi"
      },
      "source": [
        "# You win! 🫵\n",
        "\n",
        "<img src=\"https://sydlexia.com/imagesandstuff/mk3/umk31506.png\" height=\"200\"/>"
      ]
    }
  ],
  "metadata": {
    "colab": {
      "provenance": []
    },
    "kernelspec": {
      "display_name": "Python 3",
      "name": "python3"
    },
    "language_info": {
      "name": "python"
    }
  },
  "nbformat": 4,
  "nbformat_minor": 0
}
