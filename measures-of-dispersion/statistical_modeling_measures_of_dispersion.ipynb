{
  "cells": [
    {
      "cell_type": "markdown",
      "metadata": {
        "id": "1I6WNAxHIL_N"
      },
      "source": [
        "# ⚡ Measures of Dispersion with Pokémon :D  ⚡\n",
        "[Kaggle Pokemon Dataset](https://www.kaggle.com/datasets/crinklybrain2003/pokmon-base-stats-dataset?resource=download)"
      ]
    },
    {
      "cell_type": "markdown",
      "metadata": {
        "id": "eGkzsyzyIauH"
      },
      "source": [
        "## ❗ Installations and Imports ❗"
      ]
    },
    {
      "cell_type": "code",
      "execution_count": 1,
      "metadata": {
        "colab": {
          "base_uri": "https://localhost:8080/"
        },
        "id": "9lPl9OBWC4X0",
        "outputId": "9862ac3f-dd5b-4e60-b59c-bb6bb9cb8458"
      },
      "outputs": [
        {
          "name": "stdout",
          "output_type": "stream",
          "text": [
            "Requirement already satisfied: matplotlib in c:\\users\\rafael\\appdata\\local\\packages\\pythonsoftwarefoundation.python.3.10_qbz5n2kfra8p0\\localcache\\local-packages\\python310\\site-packages (3.6.2)Note: you may need to restart the kernel to use updated packages.\n",
            "\n",
            "Requirement already satisfied: ipywidgets in c:\\users\\rafael\\appdata\\local\\packages\\pythonsoftwarefoundation.python.3.10_qbz5n2kfra8p0\\localcache\\local-packages\\python310\\site-packages (8.1.5)\n",
            "Requirement already satisfied: contourpy>=1.0.1 in c:\\users\\rafael\\appdata\\local\\packages\\pythonsoftwarefoundation.python.3.10_qbz5n2kfra8p0\\localcache\\local-packages\\python310\\site-packages (from matplotlib) (1.0.6)\n",
            "Requirement already satisfied: cycler>=0.10 in c:\\users\\rafael\\appdata\\local\\packages\\pythonsoftwarefoundation.python.3.10_qbz5n2kfra8p0\\localcache\\local-packages\\python310\\site-packages (from matplotlib) (0.11.0)\n",
            "Requirement already satisfied: fonttools>=4.22.0 in c:\\users\\rafael\\appdata\\local\\packages\\pythonsoftwarefoundation.python.3.10_qbz5n2kfra8p0\\localcache\\local-packages\\python310\\site-packages (from matplotlib) (4.38.0)\n",
            "Requirement already satisfied: kiwisolver>=1.0.1 in c:\\users\\rafael\\appdata\\local\\packages\\pythonsoftwarefoundation.python.3.10_qbz5n2kfra8p0\\localcache\\local-packages\\python310\\site-packages (from matplotlib) (1.4.4)\n",
            "Requirement already satisfied: numpy>=1.19 in c:\\users\\rafael\\appdata\\local\\packages\\pythonsoftwarefoundation.python.3.10_qbz5n2kfra8p0\\localcache\\local-packages\\python310\\site-packages (from matplotlib) (1.26.4)\n",
            "Requirement already satisfied: packaging>=20.0 in c:\\users\\rafael\\appdata\\local\\packages\\pythonsoftwarefoundation.python.3.10_qbz5n2kfra8p0\\localcache\\local-packages\\python310\\site-packages (from matplotlib) (21.3)\n",
            "Requirement already satisfied: pillow>=6.2.0 in c:\\users\\rafael\\appdata\\local\\packages\\pythonsoftwarefoundation.python.3.10_qbz5n2kfra8p0\\localcache\\local-packages\\python310\\site-packages (from matplotlib) (9.3.0)\n",
            "Requirement already satisfied: pyparsing>=2.2.1 in c:\\users\\rafael\\appdata\\local\\packages\\pythonsoftwarefoundation.python.3.10_qbz5n2kfra8p0\\localcache\\local-packages\\python310\\site-packages (from matplotlib) (3.0.9)\n",
            "Requirement already satisfied: python-dateutil>=2.7 in c:\\users\\rafael\\appdata\\local\\packages\\pythonsoftwarefoundation.python.3.10_qbz5n2kfra8p0\\localcache\\local-packages\\python310\\site-packages (from matplotlib) (2.8.2)\n",
            "Requirement already satisfied: comm>=0.1.3 in c:\\users\\rafael\\appdata\\local\\packages\\pythonsoftwarefoundation.python.3.10_qbz5n2kfra8p0\\localcache\\local-packages\\python310\\site-packages (from ipywidgets) (0.2.2)\n",
            "Requirement already satisfied: ipython>=6.1.0 in c:\\users\\rafael\\appdata\\local\\packages\\pythonsoftwarefoundation.python.3.10_qbz5n2kfra8p0\\localcache\\local-packages\\python310\\site-packages (from ipywidgets) (8.6.0)\n",
            "Requirement already satisfied: traitlets>=4.3.1 in c:\\users\\rafael\\appdata\\local\\packages\\pythonsoftwarefoundation.python.3.10_qbz5n2kfra8p0\\localcache\\local-packages\\python310\\site-packages (from ipywidgets) (5.5.0)\n",
            "Requirement already satisfied: widgetsnbextension~=4.0.12 in c:\\users\\rafael\\appdata\\local\\packages\\pythonsoftwarefoundation.python.3.10_qbz5n2kfra8p0\\localcache\\local-packages\\python310\\site-packages (from ipywidgets) (4.0.13)\n",
            "Requirement already satisfied: jupyterlab-widgets~=3.0.12 in c:\\users\\rafael\\appdata\\local\\packages\\pythonsoftwarefoundation.python.3.10_qbz5n2kfra8p0\\localcache\\local-packages\\python310\\site-packages (from ipywidgets) (3.0.13)\n",
            "Requirement already satisfied: backcall in c:\\users\\rafael\\appdata\\local\\packages\\pythonsoftwarefoundation.python.3.10_qbz5n2kfra8p0\\localcache\\local-packages\\python310\\site-packages (from ipython>=6.1.0->ipywidgets) (0.2.0)\n",
            "Requirement already satisfied: decorator in c:\\users\\rafael\\appdata\\local\\packages\\pythonsoftwarefoundation.python.3.10_qbz5n2kfra8p0\\localcache\\local-packages\\python310\\site-packages (from ipython>=6.1.0->ipywidgets) (5.1.1)\n",
            "Requirement already satisfied: jedi>=0.16 in c:\\users\\rafael\\appdata\\local\\packages\\pythonsoftwarefoundation.python.3.10_qbz5n2kfra8p0\\localcache\\local-packages\\python310\\site-packages (from ipython>=6.1.0->ipywidgets) (0.18.1)\n",
            "Requirement already satisfied: matplotlib-inline in c:\\users\\rafael\\appdata\\local\\packages\\pythonsoftwarefoundation.python.3.10_qbz5n2kfra8p0\\localcache\\local-packages\\python310\\site-packages (from ipython>=6.1.0->ipywidgets) (0.1.6)\n",
            "Requirement already satisfied: pickleshare in c:\\users\\rafael\\appdata\\local\\packages\\pythonsoftwarefoundation.python.3.10_qbz5n2kfra8p0\\localcache\\local-packages\\python310\\site-packages (from ipython>=6.1.0->ipywidgets) (0.7.5)\n",
            "Requirement already satisfied: prompt-toolkit<3.1.0,>3.0.1 in c:\\users\\rafael\\appdata\\local\\packages\\pythonsoftwarefoundation.python.3.10_qbz5n2kfra8p0\\localcache\\local-packages\\python310\\site-packages (from ipython>=6.1.0->ipywidgets) (3.0.32)\n",
            "Requirement already satisfied: pygments>=2.4.0 in c:\\users\\rafael\\appdata\\local\\packages\\pythonsoftwarefoundation.python.3.10_qbz5n2kfra8p0\\localcache\\local-packages\\python310\\site-packages (from ipython>=6.1.0->ipywidgets) (2.13.0)\n",
            "Requirement already satisfied: stack-data in c:\\users\\rafael\\appdata\\local\\packages\\pythonsoftwarefoundation.python.3.10_qbz5n2kfra8p0\\localcache\\local-packages\\python310\\site-packages (from ipython>=6.1.0->ipywidgets) (0.6.0)\n",
            "Requirement already satisfied: colorama in c:\\users\\rafael\\appdata\\local\\packages\\pythonsoftwarefoundation.python.3.10_qbz5n2kfra8p0\\localcache\\local-packages\\python310\\site-packages (from ipython>=6.1.0->ipywidgets) (0.4.6)\n",
            "Requirement already satisfied: six>=1.5 in c:\\users\\rafael\\appdata\\local\\packages\\pythonsoftwarefoundation.python.3.10_qbz5n2kfra8p0\\localcache\\local-packages\\python310\\site-packages (from python-dateutil>=2.7->matplotlib) (1.16.0)\n",
            "Requirement already satisfied: parso<0.9.0,>=0.8.0 in c:\\users\\rafael\\appdata\\local\\packages\\pythonsoftwarefoundation.python.3.10_qbz5n2kfra8p0\\localcache\\local-packages\\python310\\site-packages (from jedi>=0.16->ipython>=6.1.0->ipywidgets) (0.8.3)\n",
            "Requirement already satisfied: wcwidth in c:\\users\\rafael\\appdata\\local\\packages\\pythonsoftwarefoundation.python.3.10_qbz5n2kfra8p0\\localcache\\local-packages\\python310\\site-packages (from prompt-toolkit<3.1.0,>3.0.1->ipython>=6.1.0->ipywidgets) (0.2.5)\n",
            "Requirement already satisfied: executing>=1.2.0 in c:\\users\\rafael\\appdata\\local\\packages\\pythonsoftwarefoundation.python.3.10_qbz5n2kfra8p0\\localcache\\local-packages\\python310\\site-packages (from stack-data->ipython>=6.1.0->ipywidgets) (1.2.0)\n",
            "Requirement already satisfied: asttokens>=2.1.0 in c:\\users\\rafael\\appdata\\local\\packages\\pythonsoftwarefoundation.python.3.10_qbz5n2kfra8p0\\localcache\\local-packages\\python310\\site-packages (from stack-data->ipython>=6.1.0->ipywidgets) (2.1.0)\n",
            "Requirement already satisfied: pure-eval in c:\\users\\rafael\\appdata\\local\\packages\\pythonsoftwarefoundation.python.3.10_qbz5n2kfra8p0\\localcache\\local-packages\\python310\\site-packages (from stack-data->ipython>=6.1.0->ipywidgets) (0.2.2)\n"
          ]
        },
        {
          "name": "stderr",
          "output_type": "stream",
          "text": [
            "\n",
            "[notice] A new release of pip is available: 23.3.1 -> 24.2\n",
            "[notice] To update, run: C:\\Users\\Rafael\\AppData\\Local\\Microsoft\\WindowsApps\\PythonSoftwareFoundation.Python.3.10_qbz5n2kfra8p0\\python.exe -m pip install --upgrade pip\n"
          ]
        }
      ],
      "source": [
        "%pip install matplotlib ipywidgets"
      ]
    },
    {
      "cell_type": "code",
      "execution_count": 2,
      "metadata": {
        "id": "JEAPIq-w3lHj"
      },
      "outputs": [],
      "source": [
        "import pandas as pd\n",
        "import matplotlib.pyplot as plt\n",
        "import ipywidgets as widgets\n",
        "import numpy as np\n",
        "import seaborn as sns"
      ]
    },
    {
      "cell_type": "markdown",
      "metadata": {
        "id": "oJh41kuFIfM1"
      },
      "source": [
        "## ⚒ General Preprocessing ⚒"
      ]
    },
    {
      "cell_type": "code",
      "execution_count": 3,
      "metadata": {
        "id": "8-y-BFaV3pVz"
      },
      "outputs": [],
      "source": [
        "df_pokemons = pd.read_csv(r\".\\pokemon_combined.csv\")"
      ]
    },
    {
      "cell_type": "code",
      "execution_count": 4,
      "metadata": {
        "colab": {
          "base_uri": "https://localhost:8080/",
          "height": 206
        },
        "id": "JDJtg2ux75UZ",
        "outputId": "fe36712e-a65a-4205-8500-4fe2fc501207"
      },
      "outputs": [
        {
          "data": {
            "text/html": [
              "<div>\n",
              "<style scoped>\n",
              "    .dataframe tbody tr th:only-of-type {\n",
              "        vertical-align: middle;\n",
              "    }\n",
              "\n",
              "    .dataframe tbody tr th {\n",
              "        vertical-align: top;\n",
              "    }\n",
              "\n",
              "    .dataframe thead th {\n",
              "        text-align: right;\n",
              "    }\n",
              "</style>\n",
              "<table border=\"1\" class=\"dataframe\">\n",
              "  <thead>\n",
              "    <tr style=\"text-align: right;\">\n",
              "      <th></th>\n",
              "      <th>Name</th>\n",
              "      <th>Type</th>\n",
              "      <th>Species</th>\n",
              "      <th>Height</th>\n",
              "      <th>Weight</th>\n",
              "      <th>Abilities</th>\n",
              "      <th>Catch rate</th>\n",
              "      <th>Base Friendship</th>\n",
              "      <th>Base Exp.</th>\n",
              "      <th>Growth Rate</th>\n",
              "      <th>Gender</th>\n",
              "      <th>HP</th>\n",
              "      <th>Attack</th>\n",
              "      <th>Defense</th>\n",
              "      <th>Sp. Atk</th>\n",
              "      <th>Sp. Def</th>\n",
              "      <th>Speed</th>\n",
              "    </tr>\n",
              "  </thead>\n",
              "  <tbody>\n",
              "    <tr>\n",
              "      <th>0</th>\n",
              "      <td>Bulbasaur</td>\n",
              "      <td>Grass Poison</td>\n",
              "      <td>Seed Pokémon</td>\n",
              "      <td>0.7</td>\n",
              "      <td>6.9</td>\n",
              "      <td>1. OvergrowChlorophyll (hidden ability)</td>\n",
              "      <td>45</td>\n",
              "      <td>50</td>\n",
              "      <td>64</td>\n",
              "      <td>Medium Slow</td>\n",
              "      <td>87.5% male, 12.5% female</td>\n",
              "      <td>45</td>\n",
              "      <td>49</td>\n",
              "      <td>49</td>\n",
              "      <td>65</td>\n",
              "      <td>65</td>\n",
              "      <td>45</td>\n",
              "    </tr>\n",
              "    <tr>\n",
              "      <th>1</th>\n",
              "      <td>Ivysaur</td>\n",
              "      <td>Grass Poison</td>\n",
              "      <td>Seed Pokémon</td>\n",
              "      <td>1.0</td>\n",
              "      <td>13.0</td>\n",
              "      <td>1. OvergrowChlorophyll (hidden ability)</td>\n",
              "      <td>45</td>\n",
              "      <td>50</td>\n",
              "      <td>142</td>\n",
              "      <td>Medium Slow</td>\n",
              "      <td>87.5% male, 12.5% female</td>\n",
              "      <td>60</td>\n",
              "      <td>62</td>\n",
              "      <td>63</td>\n",
              "      <td>80</td>\n",
              "      <td>80</td>\n",
              "      <td>60</td>\n",
              "    </tr>\n",
              "    <tr>\n",
              "      <th>2</th>\n",
              "      <td>Venusaur</td>\n",
              "      <td>Grass Poison</td>\n",
              "      <td>Seed Pokémon</td>\n",
              "      <td>2.4</td>\n",
              "      <td>155.5</td>\n",
              "      <td>Thick Fat</td>\n",
              "      <td>45</td>\n",
              "      <td>50</td>\n",
              "      <td>281</td>\n",
              "      <td>Medium Slow</td>\n",
              "      <td>87.5% male, 12.5% female</td>\n",
              "      <td>80</td>\n",
              "      <td>100</td>\n",
              "      <td>123</td>\n",
              "      <td>122</td>\n",
              "      <td>120</td>\n",
              "      <td>80</td>\n",
              "    </tr>\n",
              "    <tr>\n",
              "      <th>3</th>\n",
              "      <td>Charmander</td>\n",
              "      <td>Fire</td>\n",
              "      <td>Lizard Pokémon</td>\n",
              "      <td>0.6</td>\n",
              "      <td>8.5</td>\n",
              "      <td>1. BlazeSolar Power (hidden ability)</td>\n",
              "      <td>45</td>\n",
              "      <td>50</td>\n",
              "      <td>62</td>\n",
              "      <td>Medium Slow</td>\n",
              "      <td>87.5% male, 12.5% female</td>\n",
              "      <td>39</td>\n",
              "      <td>52</td>\n",
              "      <td>43</td>\n",
              "      <td>60</td>\n",
              "      <td>50</td>\n",
              "      <td>65</td>\n",
              "    </tr>\n",
              "    <tr>\n",
              "      <th>4</th>\n",
              "      <td>Charmeleon</td>\n",
              "      <td>Fire</td>\n",
              "      <td>Flame Pokémon</td>\n",
              "      <td>1.1</td>\n",
              "      <td>19.0</td>\n",
              "      <td>1. BlazeSolar Power (hidden ability)</td>\n",
              "      <td>45</td>\n",
              "      <td>50</td>\n",
              "      <td>142</td>\n",
              "      <td>Medium Slow</td>\n",
              "      <td>87.5% male, 12.5% female</td>\n",
              "      <td>58</td>\n",
              "      <td>64</td>\n",
              "      <td>58</td>\n",
              "      <td>80</td>\n",
              "      <td>65</td>\n",
              "      <td>80</td>\n",
              "    </tr>\n",
              "  </tbody>\n",
              "</table>\n",
              "</div>"
            ],
            "text/plain": [
              "         Name          Type         Species  Height  Weight  \\\n",
              "0   Bulbasaur  Grass Poison    Seed Pokémon     0.7     6.9   \n",
              "1     Ivysaur  Grass Poison    Seed Pokémon     1.0    13.0   \n",
              "2    Venusaur  Grass Poison    Seed Pokémon     2.4   155.5   \n",
              "3  Charmander          Fire  Lizard Pokémon     0.6     8.5   \n",
              "4  Charmeleon          Fire   Flame Pokémon     1.1    19.0   \n",
              "\n",
              "                                 Abilities  Catch rate  Base Friendship  \\\n",
              "0  1. OvergrowChlorophyll (hidden ability)          45               50   \n",
              "1  1. OvergrowChlorophyll (hidden ability)          45               50   \n",
              "2                                Thick Fat          45               50   \n",
              "3     1. BlazeSolar Power (hidden ability)          45               50   \n",
              "4     1. BlazeSolar Power (hidden ability)          45               50   \n",
              "\n",
              "   Base Exp.  Growth Rate                    Gender  HP  Attack  Defense  \\\n",
              "0         64  Medium Slow  87.5% male, 12.5% female  45      49       49   \n",
              "1        142  Medium Slow  87.5% male, 12.5% female  60      62       63   \n",
              "2        281  Medium Slow  87.5% male, 12.5% female  80     100      123   \n",
              "3         62  Medium Slow  87.5% male, 12.5% female  39      52       43   \n",
              "4        142  Medium Slow  87.5% male, 12.5% female  58      64       58   \n",
              "\n",
              "   Sp. Atk  Sp. Def  Speed  \n",
              "0       65       65     45  \n",
              "1       80       80     60  \n",
              "2      122      120     80  \n",
              "3       60       50     65  \n",
              "4       80       65     80  "
            ]
          },
          "execution_count": 4,
          "metadata": {},
          "output_type": "execute_result"
        }
      ],
      "source": [
        "df_pokemons.head()"
      ]
    },
    {
      "cell_type": "code",
      "execution_count": 5,
      "metadata": {
        "id": "S6mSAWEF_of7"
      },
      "outputs": [],
      "source": [
        "# Grouping records by the value of the Species column\n",
        "count_by_species = df_pokemons.groupby(\"Species\").size()"
      ]
    },
    {
      "cell_type": "code",
      "execution_count": 6,
      "metadata": {
        "id": "40vaPwLa_pR3"
      },
      "outputs": [],
      "source": [
        "# Filtering to keep only species with more than 2 records\n",
        "species_with_multiple_records = count_by_species[count_by_species > 2].index"
      ]
    },
    {
      "cell_type": "code",
      "execution_count": 7,
      "metadata": {
        "id": "64MN-okC9ZtS"
      },
      "outputs": [],
      "source": [
        "df_filtered_pokemons = df_pokemons[df_pokemons[\"Species\"].isin(species_with_multiple_records)]"
      ]
    },
    {
      "cell_type": "code",
      "execution_count": 8,
      "metadata": {
        "id": "05sPrFXSVW1V"
      },
      "outputs": [],
      "source": [
        "df_filtered_pokemons_grouped_by_especies = df_filtered_pokemons.groupby(\"Species\")"
      ]
    },
    {
      "cell_type": "markdown",
      "metadata": {
        "id": "X25ZfFK9JDgp"
      },
      "source": [
        "## 🤓 Total Range 🤓"
      ]
    },
    {
      "cell_type": "code",
      "execution_count": 9,
      "metadata": {
        "id": "iRNgXc7v8Js2"
      },
      "outputs": [],
      "source": [
        "def calculate_total_range(serie: pd.Series) -> float:\n",
        "    return serie.max() - serie.min()"
      ]
    },
    {
      "cell_type": "code",
      "execution_count": 10,
      "metadata": {
        "colab": {
          "base_uri": "https://localhost:8080/"
        },
        "id": "XdZjcMCi9MkP",
        "outputId": "ef1e29f0-e97a-4969-b594-5e7483136b57"
      },
      "outputs": [
        {
          "data": {
            "text/plain": [
              "699.4000000000001"
            ]
          },
          "execution_count": 10,
          "metadata": {},
          "output_type": "execute_result"
        }
      ],
      "source": [
        "calculate_total_range(df_filtered_pokemons[\"Weight\"])"
      ]
    },
    {
      "cell_type": "code",
      "execution_count": 11,
      "metadata": {
        "id": "2d1F9UgM_y6i"
      },
      "outputs": [],
      "source": [
        "# Calculating the total range for each species\n",
        "range_by_species = df_filtered_pokemons_grouped_by_especies[\"Weight\"].apply(calculate_total_range)"
      ]
    },
    {
      "cell_type": "code",
      "execution_count": 12,
      "metadata": {
        "colab": {
          "base_uri": "https://localhost:8080/",
          "height": 35
        },
        "id": "KwEN6q6E-miu",
        "outputId": "1075eec7-d64b-4a94-c245-154b59be2f6c"
      },
      "outputs": [
        {
          "data": {
            "text/plain": [
              "'Ruinous Pokémon'"
            ]
          },
          "execution_count": 12,
          "metadata": {},
          "output_type": "execute_result"
        }
      ],
      "source": [
        "# Checking which species has the largest total range\n",
        "range_by_species.idxmax()"
      ]
    },
    {
      "cell_type": "code",
      "execution_count": 13,
      "metadata": {
        "colab": {
          "base_uri": "https://localhost:8080/",
          "height": 175
        },
        "id": "J63QVfsY-qZd",
        "outputId": "beb03e5b-035b-4d81-bfc1-5ba2d222aff7"
      },
      "outputs": [
        {
          "data": {
            "text/html": [
              "<div>\n",
              "<style scoped>\n",
              "    .dataframe tbody tr th:only-of-type {\n",
              "        vertical-align: middle;\n",
              "    }\n",
              "\n",
              "    .dataframe tbody tr th {\n",
              "        vertical-align: top;\n",
              "    }\n",
              "\n",
              "    .dataframe thead th {\n",
              "        text-align: right;\n",
              "    }\n",
              "</style>\n",
              "<table border=\"1\" class=\"dataframe\">\n",
              "  <thead>\n",
              "    <tr style=\"text-align: right;\">\n",
              "      <th></th>\n",
              "      <th>Name</th>\n",
              "      <th>Type</th>\n",
              "      <th>Species</th>\n",
              "      <th>Height</th>\n",
              "      <th>Weight</th>\n",
              "      <th>Abilities</th>\n",
              "      <th>Catch rate</th>\n",
              "      <th>Base Friendship</th>\n",
              "      <th>Base Exp.</th>\n",
              "      <th>Growth Rate</th>\n",
              "      <th>Gender</th>\n",
              "      <th>HP</th>\n",
              "      <th>Attack</th>\n",
              "      <th>Defense</th>\n",
              "      <th>Sp. Atk</th>\n",
              "      <th>Sp. Def</th>\n",
              "      <th>Speed</th>\n",
              "    </tr>\n",
              "  </thead>\n",
              "  <tbody>\n",
              "    <tr>\n",
              "      <th>989</th>\n",
              "      <td>Wo-Chien</td>\n",
              "      <td>Dark Grass</td>\n",
              "      <td>Ruinous Pokémon</td>\n",
              "      <td>1.5</td>\n",
              "      <td>74.2</td>\n",
              "      <td>1. Tablets of Ruin</td>\n",
              "      <td>6</td>\n",
              "      <td>0</td>\n",
              "      <td>285</td>\n",
              "      <td>Slow</td>\n",
              "      <td>Genderless</td>\n",
              "      <td>85</td>\n",
              "      <td>85</td>\n",
              "      <td>100</td>\n",
              "      <td>95</td>\n",
              "      <td>135</td>\n",
              "      <td>70</td>\n",
              "    </tr>\n",
              "    <tr>\n",
              "      <th>990</th>\n",
              "      <td>Chien-Pao</td>\n",
              "      <td>Dark Ice</td>\n",
              "      <td>Ruinous Pokémon</td>\n",
              "      <td>1.9</td>\n",
              "      <td>152.2</td>\n",
              "      <td>1. Sword of Ruin</td>\n",
              "      <td>6</td>\n",
              "      <td>0</td>\n",
              "      <td>285</td>\n",
              "      <td>Slow</td>\n",
              "      <td>Genderless</td>\n",
              "      <td>80</td>\n",
              "      <td>120</td>\n",
              "      <td>80</td>\n",
              "      <td>90</td>\n",
              "      <td>65</td>\n",
              "      <td>135</td>\n",
              "    </tr>\n",
              "    <tr>\n",
              "      <th>991</th>\n",
              "      <td>Ting-Lu</td>\n",
              "      <td>Dark Ground</td>\n",
              "      <td>Ruinous Pokémon</td>\n",
              "      <td>2.7</td>\n",
              "      <td>699.7</td>\n",
              "      <td>1. Vessel of Ruin</td>\n",
              "      <td>6</td>\n",
              "      <td>0</td>\n",
              "      <td>285</td>\n",
              "      <td>Slow</td>\n",
              "      <td>Genderless</td>\n",
              "      <td>155</td>\n",
              "      <td>110</td>\n",
              "      <td>125</td>\n",
              "      <td>55</td>\n",
              "      <td>80</td>\n",
              "      <td>45</td>\n",
              "    </tr>\n",
              "    <tr>\n",
              "      <th>992</th>\n",
              "      <td>Chi-Yu</td>\n",
              "      <td>Dark Fire</td>\n",
              "      <td>Ruinous Pokémon</td>\n",
              "      <td>0.4</td>\n",
              "      <td>4.9</td>\n",
              "      <td>1. Beads of Ruin</td>\n",
              "      <td>6</td>\n",
              "      <td>0</td>\n",
              "      <td>285</td>\n",
              "      <td>Slow</td>\n",
              "      <td>Genderless</td>\n",
              "      <td>55</td>\n",
              "      <td>80</td>\n",
              "      <td>80</td>\n",
              "      <td>135</td>\n",
              "      <td>120</td>\n",
              "      <td>100</td>\n",
              "    </tr>\n",
              "  </tbody>\n",
              "</table>\n",
              "</div>"
            ],
            "text/plain": [
              "          Name         Type          Species  Height  Weight  \\\n",
              "989   Wo-Chien   Dark Grass  Ruinous Pokémon     1.5    74.2   \n",
              "990  Chien-Pao     Dark Ice  Ruinous Pokémon     1.9   152.2   \n",
              "991    Ting-Lu  Dark Ground  Ruinous Pokémon     2.7   699.7   \n",
              "992     Chi-Yu    Dark Fire  Ruinous Pokémon     0.4     4.9   \n",
              "\n",
              "              Abilities  Catch rate  Base Friendship  Base Exp. Growth Rate  \\\n",
              "989  1. Tablets of Ruin           6                0        285        Slow   \n",
              "990    1. Sword of Ruin           6                0        285        Slow   \n",
              "991   1. Vessel of Ruin           6                0        285        Slow   \n",
              "992    1. Beads of Ruin           6                0        285        Slow   \n",
              "\n",
              "         Gender   HP  Attack  Defense  Sp. Atk  Sp. Def  Speed  \n",
              "989  Genderless   85      85      100       95      135     70  \n",
              "990  Genderless   80     120       80       90       65    135  \n",
              "991  Genderless  155     110      125       55       80     45  \n",
              "992  Genderless   55      80       80      135      120    100  "
            ]
          },
          "execution_count": 13,
          "metadata": {},
          "output_type": "execute_result"
        }
      ],
      "source": [
        "df_filtered_pokemons[df_filtered_pokemons[\"Species\"] == range_by_species.idxmax()]"
      ]
    },
    {
      "cell_type": "code",
      "execution_count": 14,
      "metadata": {
        "colab": {
          "base_uri": "https://localhost:8080/",
          "height": 35
        },
        "id": "J8L4WuKD_AcF",
        "outputId": "a432b4b8-9270-476c-990c-6b59aed5108d"
      },
      "outputs": [
        {
          "data": {
            "text/plain": [
              "'Tiny Bird Pokémon'"
            ]
          },
          "execution_count": 14,
          "metadata": {},
          "output_type": "execute_result"
        }
      ],
      "source": [
        "# Checking which species has the smallest total range\n",
        "range_by_species.idxmin()"
      ]
    },
    {
      "cell_type": "code",
      "execution_count": 15,
      "metadata": {
        "colab": {
          "base_uri": "https://localhost:8080/",
          "height": 175
        },
        "id": "Q5dtQp4K_KHc",
        "outputId": "f3f774d3-c2aa-42c6-cfcb-1207e5785823"
      },
      "outputs": [
        {
          "data": {
            "text/html": [
              "<div>\n",
              "<style scoped>\n",
              "    .dataframe tbody tr th:only-of-type {\n",
              "        vertical-align: middle;\n",
              "    }\n",
              "\n",
              "    .dataframe tbody tr th {\n",
              "        vertical-align: top;\n",
              "    }\n",
              "\n",
              "    .dataframe thead th {\n",
              "        text-align: right;\n",
              "    }\n",
              "</style>\n",
              "<table border=\"1\" class=\"dataframe\">\n",
              "  <thead>\n",
              "    <tr style=\"text-align: right;\">\n",
              "      <th></th>\n",
              "      <th>Name</th>\n",
              "      <th>Type</th>\n",
              "      <th>Species</th>\n",
              "      <th>Height</th>\n",
              "      <th>Weight</th>\n",
              "      <th>Abilities</th>\n",
              "      <th>Catch rate</th>\n",
              "      <th>Base Friendship</th>\n",
              "      <th>Base Exp.</th>\n",
              "      <th>Growth Rate</th>\n",
              "      <th>Gender</th>\n",
              "      <th>HP</th>\n",
              "      <th>Attack</th>\n",
              "      <th>Defense</th>\n",
              "      <th>Sp. Atk</th>\n",
              "      <th>Sp. Def</th>\n",
              "      <th>Speed</th>\n",
              "    </tr>\n",
              "  </thead>\n",
              "  <tbody>\n",
              "    <tr>\n",
              "      <th>15</th>\n",
              "      <td>Pidgey</td>\n",
              "      <td>Normal Flying</td>\n",
              "      <td>Tiny Bird Pokémon</td>\n",
              "      <td>0.3</td>\n",
              "      <td>1.8</td>\n",
              "      <td>1. Keen Eye2. Tangled FeetBig Pecks (hidden ab...</td>\n",
              "      <td>255</td>\n",
              "      <td>50</td>\n",
              "      <td>50</td>\n",
              "      <td>Medium Slow</td>\n",
              "      <td>50% male, 50% female</td>\n",
              "      <td>40</td>\n",
              "      <td>45</td>\n",
              "      <td>40</td>\n",
              "      <td>35</td>\n",
              "      <td>35</td>\n",
              "      <td>56</td>\n",
              "    </tr>\n",
              "    <tr>\n",
              "      <th>20</th>\n",
              "      <td>Spearow</td>\n",
              "      <td>Normal Flying</td>\n",
              "      <td>Tiny Bird Pokémon</td>\n",
              "      <td>0.3</td>\n",
              "      <td>2.0</td>\n",
              "      <td>1. Keen EyeSniper (hidden ability)</td>\n",
              "      <td>255</td>\n",
              "      <td>50</td>\n",
              "      <td>52</td>\n",
              "      <td>Medium Fast</td>\n",
              "      <td>50% male, 50% female</td>\n",
              "      <td>40</td>\n",
              "      <td>60</td>\n",
              "      <td>30</td>\n",
              "      <td>31</td>\n",
              "      <td>31</td>\n",
              "      <td>70</td>\n",
              "    </tr>\n",
              "    <tr>\n",
              "      <th>170</th>\n",
              "      <td>Natu</td>\n",
              "      <td>Psychic Flying</td>\n",
              "      <td>Tiny Bird Pokémon</td>\n",
              "      <td>0.2</td>\n",
              "      <td>2.0</td>\n",
              "      <td>1. Synchronize2. Early BirdMagic Bounce (hidde...</td>\n",
              "      <td>190</td>\n",
              "      <td>50</td>\n",
              "      <td>64</td>\n",
              "      <td>Medium Fast</td>\n",
              "      <td>50% male, 50% female</td>\n",
              "      <td>40</td>\n",
              "      <td>50</td>\n",
              "      <td>45</td>\n",
              "      <td>70</td>\n",
              "      <td>45</td>\n",
              "      <td>70</td>\n",
              "    </tr>\n",
              "    <tr>\n",
              "      <th>811</th>\n",
              "      <td>Rookidee</td>\n",
              "      <td>Flying</td>\n",
              "      <td>Tiny Bird Pokémon</td>\n",
              "      <td>0.2</td>\n",
              "      <td>1.8</td>\n",
              "      <td>1. Keen Eye2. UnnerveBig Pecks (hidden ability)</td>\n",
              "      <td>255</td>\n",
              "      <td>50</td>\n",
              "      <td>49</td>\n",
              "      <td>Medium Slow</td>\n",
              "      <td>50% male, 50% female</td>\n",
              "      <td>38</td>\n",
              "      <td>47</td>\n",
              "      <td>35</td>\n",
              "      <td>33</td>\n",
              "      <td>35</td>\n",
              "      <td>57</td>\n",
              "    </tr>\n",
              "  </tbody>\n",
              "</table>\n",
              "</div>"
            ],
            "text/plain": [
              "         Name            Type            Species  Height  Weight  \\\n",
              "15     Pidgey   Normal Flying  Tiny Bird Pokémon     0.3     1.8   \n",
              "20    Spearow   Normal Flying  Tiny Bird Pokémon     0.3     2.0   \n",
              "170      Natu  Psychic Flying  Tiny Bird Pokémon     0.2     2.0   \n",
              "811  Rookidee          Flying  Tiny Bird Pokémon     0.2     1.8   \n",
              "\n",
              "                                             Abilities  Catch rate  \\\n",
              "15   1. Keen Eye2. Tangled FeetBig Pecks (hidden ab...         255   \n",
              "20                  1. Keen EyeSniper (hidden ability)         255   \n",
              "170  1. Synchronize2. Early BirdMagic Bounce (hidde...         190   \n",
              "811    1. Keen Eye2. UnnerveBig Pecks (hidden ability)         255   \n",
              "\n",
              "     Base Friendship  Base Exp.  Growth Rate                Gender  HP  \\\n",
              "15                50         50  Medium Slow  50% male, 50% female  40   \n",
              "20                50         52  Medium Fast  50% male, 50% female  40   \n",
              "170               50         64  Medium Fast  50% male, 50% female  40   \n",
              "811               50         49  Medium Slow  50% male, 50% female  38   \n",
              "\n",
              "     Attack  Defense  Sp. Atk  Sp. Def  Speed  \n",
              "15       45       40       35       35     56  \n",
              "20       60       30       31       31     70  \n",
              "170      50       45       70       45     70  \n",
              "811      47       35       33       35     57  "
            ]
          },
          "execution_count": 15,
          "metadata": {},
          "output_type": "execute_result"
        }
      ],
      "source": [
        "df_filtered_pokemons[df_filtered_pokemons[\"Species\"] == range_by_species.idxmin()]"
      ]
    },
    {
      "cell_type": "markdown",
      "metadata": {
        "id": "7Z3G7xm5JRQQ"
      },
      "source": [
        "## 🤓 Quartile Deviation 🤓"
      ]
    },
    {
      "cell_type": "code",
      "execution_count": 16,
      "metadata": {
        "id": "yBIVGG6mJm8s"
      },
      "outputs": [],
      "source": [
        "def calculate_quartile_deviation(serie):\n",
        "    Q1 = serie.quantile(0.25)\n",
        "    Q3 = serie.quantile(0.75)\n",
        "    return Q3 - Q1"
      ]
    },
    {
      "cell_type": "code",
      "execution_count": 17,
      "metadata": {
        "colab": {
          "base_uri": "https://localhost:8080/"
        },
        "id": "z7154MUnJrEl",
        "outputId": "1e4451fc-84ee-4afc-80f4-dd8d181f7aef"
      },
      "outputs": [
        {
          "data": {
            "text/plain": [
              "35.0"
            ]
          },
          "execution_count": 17,
          "metadata": {},
          "output_type": "execute_result"
        }
      ],
      "source": [
        "calculate_quartile_deviation(df_filtered_pokemons[\"HP\"])"
      ]
    },
    {
      "cell_type": "code",
      "execution_count": 18,
      "metadata": {
        "id": "-OsJ4qJ3Jxul"
      },
      "outputs": [],
      "source": [
        "# Calculating the quartile deviation for each species\n",
        "calculate_quartile_deviation_by_species = df_filtered_pokemons_grouped_by_especies[\"HP\"].apply(calculate_quartile_deviation)"
      ]
    },
    {
      "cell_type": "code",
      "execution_count": 19,
      "metadata": {
        "colab": {
          "base_uri": "https://localhost:8080/",
          "height": 35
        },
        "id": "93-qZcZMJ0Ij",
        "outputId": "9fef37dc-5502-46ea-d418-fa92ef17d200"
      },
      "outputs": [
        {
          "data": {
            "text/plain": [
              "'Dragon Pokémon'"
            ]
          },
          "execution_count": 19,
          "metadata": {},
          "output_type": "execute_result"
        }
      ],
      "source": [
        "# Checking which species has the largest quartile deviation\n",
        "calculate_quartile_deviation_by_species.idxmax()"
      ]
    },
    {
      "cell_type": "code",
      "execution_count": 20,
      "metadata": {
        "colab": {
          "base_uri": "https://localhost:8080/",
          "height": 269
        },
        "id": "jcKABMC3J3WH",
        "outputId": "400c66b1-c87f-4539-9b58-2e745a7cde4c"
      },
      "outputs": [
        {
          "data": {
            "text/html": [
              "<div>\n",
              "<style scoped>\n",
              "    .dataframe tbody tr th:only-of-type {\n",
              "        vertical-align: middle;\n",
              "    }\n",
              "\n",
              "    .dataframe tbody tr th {\n",
              "        vertical-align: top;\n",
              "    }\n",
              "\n",
              "    .dataframe thead th {\n",
              "        text-align: right;\n",
              "    }\n",
              "</style>\n",
              "<table border=\"1\" class=\"dataframe\">\n",
              "  <thead>\n",
              "    <tr style=\"text-align: right;\">\n",
              "      <th></th>\n",
              "      <th>Name</th>\n",
              "      <th>Type</th>\n",
              "      <th>Species</th>\n",
              "      <th>Height</th>\n",
              "      <th>Weight</th>\n",
              "      <th>Abilities</th>\n",
              "      <th>Catch rate</th>\n",
              "      <th>Base Friendship</th>\n",
              "      <th>Base Exp.</th>\n",
              "      <th>Growth Rate</th>\n",
              "      <th>Gender</th>\n",
              "      <th>HP</th>\n",
              "      <th>Attack</th>\n",
              "      <th>Defense</th>\n",
              "      <th>Sp. Atk</th>\n",
              "      <th>Sp. Def</th>\n",
              "      <th>Speed</th>\n",
              "    </tr>\n",
              "  </thead>\n",
              "  <tbody>\n",
              "    <tr>\n",
              "      <th>109</th>\n",
              "      <td>Horsea</td>\n",
              "      <td>Water</td>\n",
              "      <td>Dragon Pokémon</td>\n",
              "      <td>0.4</td>\n",
              "      <td>8.0</td>\n",
              "      <td>1. Swift Swim2. SniperDamp (hidden ability)</td>\n",
              "      <td>225</td>\n",
              "      <td>50</td>\n",
              "      <td>59</td>\n",
              "      <td>Medium Fast</td>\n",
              "      <td>50% male, 50% female</td>\n",
              "      <td>30</td>\n",
              "      <td>40</td>\n",
              "      <td>70</td>\n",
              "      <td>70</td>\n",
              "      <td>25</td>\n",
              "      <td>60</td>\n",
              "    </tr>\n",
              "    <tr>\n",
              "      <th>110</th>\n",
              "      <td>Seadra</td>\n",
              "      <td>Water</td>\n",
              "      <td>Dragon Pokémon</td>\n",
              "      <td>1.2</td>\n",
              "      <td>25.0</td>\n",
              "      <td>1. Poison Point2. SniperDamp (hidden ability)</td>\n",
              "      <td>75</td>\n",
              "      <td>50</td>\n",
              "      <td>154</td>\n",
              "      <td>Medium Fast</td>\n",
              "      <td>50% male, 50% female</td>\n",
              "      <td>55</td>\n",
              "      <td>65</td>\n",
              "      <td>95</td>\n",
              "      <td>95</td>\n",
              "      <td>45</td>\n",
              "      <td>85</td>\n",
              "    </tr>\n",
              "    <tr>\n",
              "      <th>140</th>\n",
              "      <td>Dratini</td>\n",
              "      <td>Dragon</td>\n",
              "      <td>Dragon Pokémon</td>\n",
              "      <td>1.8</td>\n",
              "      <td>3.3</td>\n",
              "      <td>1. Shed SkinMarvel Scale (hidden ability)</td>\n",
              "      <td>45</td>\n",
              "      <td>35</td>\n",
              "      <td>60</td>\n",
              "      <td>Slow</td>\n",
              "      <td>50% male, 50% female</td>\n",
              "      <td>41</td>\n",
              "      <td>64</td>\n",
              "      <td>45</td>\n",
              "      <td>50</td>\n",
              "      <td>50</td>\n",
              "      <td>50</td>\n",
              "    </tr>\n",
              "    <tr>\n",
              "      <th>141</th>\n",
              "      <td>Dragonair</td>\n",
              "      <td>Dragon</td>\n",
              "      <td>Dragon Pokémon</td>\n",
              "      <td>4.0</td>\n",
              "      <td>16.5</td>\n",
              "      <td>1. Shed SkinMarvel Scale (hidden ability)</td>\n",
              "      <td>45</td>\n",
              "      <td>35</td>\n",
              "      <td>147</td>\n",
              "      <td>Slow</td>\n",
              "      <td>50% male, 50% female</td>\n",
              "      <td>61</td>\n",
              "      <td>84</td>\n",
              "      <td>65</td>\n",
              "      <td>70</td>\n",
              "      <td>70</td>\n",
              "      <td>70</td>\n",
              "    </tr>\n",
              "    <tr>\n",
              "      <th>142</th>\n",
              "      <td>Dragonite</td>\n",
              "      <td>Dragon Flying</td>\n",
              "      <td>Dragon Pokémon</td>\n",
              "      <td>2.2</td>\n",
              "      <td>210.0</td>\n",
              "      <td>1. Inner FocusMultiscale (hidden ability)</td>\n",
              "      <td>45</td>\n",
              "      <td>35</td>\n",
              "      <td>300</td>\n",
              "      <td>Slow</td>\n",
              "      <td>50% male, 50% female</td>\n",
              "      <td>91</td>\n",
              "      <td>134</td>\n",
              "      <td>95</td>\n",
              "      <td>100</td>\n",
              "      <td>100</td>\n",
              "      <td>80</td>\n",
              "    </tr>\n",
              "    <tr>\n",
              "      <th>223</th>\n",
              "      <td>Kingdra</td>\n",
              "      <td>Water Dragon</td>\n",
              "      <td>Dragon Pokémon</td>\n",
              "      <td>1.8</td>\n",
              "      <td>152.0</td>\n",
              "      <td>1. Swift Swim2. SniperDamp (hidden ability)</td>\n",
              "      <td>45</td>\n",
              "      <td>50</td>\n",
              "      <td>243</td>\n",
              "      <td>Medium Fast</td>\n",
              "      <td>50% male, 50% female</td>\n",
              "      <td>75</td>\n",
              "      <td>95</td>\n",
              "      <td>95</td>\n",
              "      <td>95</td>\n",
              "      <td>95</td>\n",
              "      <td>85</td>\n",
              "    </tr>\n",
              "    <tr>\n",
              "      <th>366</th>\n",
              "      <td>Salamence</td>\n",
              "      <td>Dragon Flying</td>\n",
              "      <td>Dragon Pokémon</td>\n",
              "      <td>1.8</td>\n",
              "      <td>112.6</td>\n",
              "      <td>Aerilate</td>\n",
              "      <td>45</td>\n",
              "      <td>35</td>\n",
              "      <td>315</td>\n",
              "      <td>Slow</td>\n",
              "      <td>50% male, 50% female</td>\n",
              "      <td>95</td>\n",
              "      <td>145</td>\n",
              "      <td>130</td>\n",
              "      <td>120</td>\n",
              "      <td>90</td>\n",
              "      <td>120</td>\n",
              "    </tr>\n",
              "  </tbody>\n",
              "</table>\n",
              "</div>"
            ],
            "text/plain": [
              "          Name           Type         Species  Height  Weight  \\\n",
              "109     Horsea          Water  Dragon Pokémon     0.4     8.0   \n",
              "110     Seadra          Water  Dragon Pokémon     1.2    25.0   \n",
              "140    Dratini         Dragon  Dragon Pokémon     1.8     3.3   \n",
              "141  Dragonair         Dragon  Dragon Pokémon     4.0    16.5   \n",
              "142  Dragonite  Dragon Flying  Dragon Pokémon     2.2   210.0   \n",
              "223    Kingdra   Water Dragon  Dragon Pokémon     1.8   152.0   \n",
              "366  Salamence  Dragon Flying  Dragon Pokémon     1.8   112.6   \n",
              "\n",
              "                                         Abilities  Catch rate  \\\n",
              "109    1. Swift Swim2. SniperDamp (hidden ability)         225   \n",
              "110  1. Poison Point2. SniperDamp (hidden ability)          75   \n",
              "140      1. Shed SkinMarvel Scale (hidden ability)          45   \n",
              "141      1. Shed SkinMarvel Scale (hidden ability)          45   \n",
              "142      1. Inner FocusMultiscale (hidden ability)          45   \n",
              "223    1. Swift Swim2. SniperDamp (hidden ability)          45   \n",
              "366                                       Aerilate          45   \n",
              "\n",
              "     Base Friendship  Base Exp.  Growth Rate                Gender  HP  \\\n",
              "109               50         59  Medium Fast  50% male, 50% female  30   \n",
              "110               50        154  Medium Fast  50% male, 50% female  55   \n",
              "140               35         60         Slow  50% male, 50% female  41   \n",
              "141               35        147         Slow  50% male, 50% female  61   \n",
              "142               35        300         Slow  50% male, 50% female  91   \n",
              "223               50        243  Medium Fast  50% male, 50% female  75   \n",
              "366               35        315         Slow  50% male, 50% female  95   \n",
              "\n",
              "     Attack  Defense  Sp. Atk  Sp. Def  Speed  \n",
              "109      40       70       70       25     60  \n",
              "110      65       95       95       45     85  \n",
              "140      64       45       50       50     50  \n",
              "141      84       65       70       70     70  \n",
              "142     134       95      100      100     80  \n",
              "223      95       95       95       95     85  \n",
              "366     145      130      120       90    120  "
            ]
          },
          "execution_count": 20,
          "metadata": {},
          "output_type": "execute_result"
        }
      ],
      "source": [
        "df_filtered_pokemons[df_filtered_pokemons[\"Species\"] == calculate_quartile_deviation_by_species.idxmax()]"
      ]
    },
    {
      "cell_type": "code",
      "execution_count": 21,
      "metadata": {
        "colab": {
          "base_uri": "https://localhost:8080/",
          "height": 35
        },
        "id": "UPHpgVcQJ-LX",
        "outputId": "21855c60-8bd0-4743-d6a8-ba1b6bb07a34"
      },
      "outputs": [
        {
          "data": {
            "text/plain": [
              "'Fossil Pokémon'"
            ]
          },
          "execution_count": 21,
          "metadata": {},
          "output_type": "execute_result"
        }
      ],
      "source": [
        "# Checking which species has the smallest quartile deviation\n",
        "calculate_quartile_deviation_by_species.idxmin()"
      ]
    },
    {
      "cell_type": "code",
      "execution_count": 22,
      "metadata": {
        "colab": {
          "base_uri": "https://localhost:8080/",
          "height": 206
        },
        "id": "CL7AYRBdKA0x",
        "outputId": "2750d472-688b-4838-a76e-cb8f3c3ff73e"
      },
      "outputs": [
        {
          "data": {
            "text/html": [
              "<div>\n",
              "<style scoped>\n",
              "    .dataframe tbody tr th:only-of-type {\n",
              "        vertical-align: middle;\n",
              "    }\n",
              "\n",
              "    .dataframe tbody tr th {\n",
              "        vertical-align: top;\n",
              "    }\n",
              "\n",
              "    .dataframe thead th {\n",
              "        text-align: right;\n",
              "    }\n",
              "</style>\n",
              "<table border=\"1\" class=\"dataframe\">\n",
              "  <thead>\n",
              "    <tr style=\"text-align: right;\">\n",
              "      <th></th>\n",
              "      <th>Name</th>\n",
              "      <th>Type</th>\n",
              "      <th>Species</th>\n",
              "      <th>Height</th>\n",
              "      <th>Weight</th>\n",
              "      <th>Abilities</th>\n",
              "      <th>Catch rate</th>\n",
              "      <th>Base Friendship</th>\n",
              "      <th>Base Exp.</th>\n",
              "      <th>Growth Rate</th>\n",
              "      <th>Gender</th>\n",
              "      <th>HP</th>\n",
              "      <th>Attack</th>\n",
              "      <th>Defense</th>\n",
              "      <th>Sp. Atk</th>\n",
              "      <th>Sp. Def</th>\n",
              "      <th>Speed</th>\n",
              "    </tr>\n",
              "  </thead>\n",
              "  <tbody>\n",
              "    <tr>\n",
              "      <th>135</th>\n",
              "      <td>Aerodactyl</td>\n",
              "      <td>Rock Flying</td>\n",
              "      <td>Fossil Pokémon</td>\n",
              "      <td>2.1</td>\n",
              "      <td>79.0</td>\n",
              "      <td>Tough Claws</td>\n",
              "      <td>45</td>\n",
              "      <td>50</td>\n",
              "      <td>215</td>\n",
              "      <td>Slow</td>\n",
              "      <td>87.5% male, 12.5% female</td>\n",
              "      <td>80</td>\n",
              "      <td>135</td>\n",
              "      <td>85</td>\n",
              "      <td>70</td>\n",
              "      <td>95</td>\n",
              "      <td>150</td>\n",
              "    </tr>\n",
              "    <tr>\n",
              "      <th>868</th>\n",
              "      <td>Dracozolt</td>\n",
              "      <td>Electric Dragon</td>\n",
              "      <td>Fossil Pokémon</td>\n",
              "      <td>1.8</td>\n",
              "      <td>190.0</td>\n",
              "      <td>1. Volt Absorb2. HustleSand Rush (hidden ability)</td>\n",
              "      <td>45</td>\n",
              "      <td>50</td>\n",
              "      <td>177</td>\n",
              "      <td>Slow</td>\n",
              "      <td>Genderless</td>\n",
              "      <td>90</td>\n",
              "      <td>100</td>\n",
              "      <td>90</td>\n",
              "      <td>80</td>\n",
              "      <td>70</td>\n",
              "      <td>75</td>\n",
              "    </tr>\n",
              "    <tr>\n",
              "      <th>869</th>\n",
              "      <td>Arctozolt</td>\n",
              "      <td>Electric Ice</td>\n",
              "      <td>Fossil Pokémon</td>\n",
              "      <td>2.3</td>\n",
              "      <td>150.0</td>\n",
              "      <td>1. Volt Absorb2. StaticSlush Rush (hidden abil...</td>\n",
              "      <td>45</td>\n",
              "      <td>50</td>\n",
              "      <td>177</td>\n",
              "      <td>Slow</td>\n",
              "      <td>Genderless</td>\n",
              "      <td>90</td>\n",
              "      <td>100</td>\n",
              "      <td>90</td>\n",
              "      <td>90</td>\n",
              "      <td>80</td>\n",
              "      <td>55</td>\n",
              "    </tr>\n",
              "    <tr>\n",
              "      <th>870</th>\n",
              "      <td>Dracovish</td>\n",
              "      <td>Water Dragon</td>\n",
              "      <td>Fossil Pokémon</td>\n",
              "      <td>2.3</td>\n",
              "      <td>215.0</td>\n",
              "      <td>1. Water Absorb2. Strong JawSand Rush (hidden ...</td>\n",
              "      <td>45</td>\n",
              "      <td>50</td>\n",
              "      <td>177</td>\n",
              "      <td>Slow</td>\n",
              "      <td>Genderless</td>\n",
              "      <td>90</td>\n",
              "      <td>90</td>\n",
              "      <td>100</td>\n",
              "      <td>70</td>\n",
              "      <td>80</td>\n",
              "      <td>75</td>\n",
              "    </tr>\n",
              "    <tr>\n",
              "      <th>871</th>\n",
              "      <td>Arctovish</td>\n",
              "      <td>Water Ice</td>\n",
              "      <td>Fossil Pokémon</td>\n",
              "      <td>2.0</td>\n",
              "      <td>175.0</td>\n",
              "      <td>1. Water Absorb2. Ice BodySlush Rush (hidden a...</td>\n",
              "      <td>45</td>\n",
              "      <td>50</td>\n",
              "      <td>177</td>\n",
              "      <td>Slow</td>\n",
              "      <td>Genderless</td>\n",
              "      <td>90</td>\n",
              "      <td>90</td>\n",
              "      <td>100</td>\n",
              "      <td>80</td>\n",
              "      <td>90</td>\n",
              "      <td>55</td>\n",
              "    </tr>\n",
              "  </tbody>\n",
              "</table>\n",
              "</div>"
            ],
            "text/plain": [
              "           Name             Type         Species  Height  Weight  \\\n",
              "135  Aerodactyl      Rock Flying  Fossil Pokémon     2.1    79.0   \n",
              "868   Dracozolt  Electric Dragon  Fossil Pokémon     1.8   190.0   \n",
              "869   Arctozolt     Electric Ice  Fossil Pokémon     2.3   150.0   \n",
              "870   Dracovish     Water Dragon  Fossil Pokémon     2.3   215.0   \n",
              "871   Arctovish        Water Ice  Fossil Pokémon     2.0   175.0   \n",
              "\n",
              "                                             Abilities  Catch rate  \\\n",
              "135                                        Tough Claws          45   \n",
              "868  1. Volt Absorb2. HustleSand Rush (hidden ability)          45   \n",
              "869  1. Volt Absorb2. StaticSlush Rush (hidden abil...          45   \n",
              "870  1. Water Absorb2. Strong JawSand Rush (hidden ...          45   \n",
              "871  1. Water Absorb2. Ice BodySlush Rush (hidden a...          45   \n",
              "\n",
              "     Base Friendship  Base Exp. Growth Rate                    Gender  HP  \\\n",
              "135               50        215        Slow  87.5% male, 12.5% female  80   \n",
              "868               50        177        Slow                Genderless  90   \n",
              "869               50        177        Slow                Genderless  90   \n",
              "870               50        177        Slow                Genderless  90   \n",
              "871               50        177        Slow                Genderless  90   \n",
              "\n",
              "     Attack  Defense  Sp. Atk  Sp. Def  Speed  \n",
              "135     135       85       70       95    150  \n",
              "868     100       90       80       70     75  \n",
              "869     100       90       90       80     55  \n",
              "870      90      100       70       80     75  \n",
              "871      90      100       80       90     55  "
            ]
          },
          "execution_count": 22,
          "metadata": {},
          "output_type": "execute_result"
        }
      ],
      "source": [
        "df_filtered_pokemons[df_filtered_pokemons[\"Species\"] == calculate_quartile_deviation_by_species.idxmin()]"
      ]
    },
    {
      "cell_type": "markdown",
      "metadata": {
        "id": "NTVAO4ZMKFlC"
      },
      "source": [
        "## 🤓 Mean Deviation 🤓"
      ]
    },
    {
      "cell_type": "code",
      "execution_count": 23,
      "metadata": {
        "id": "4jRR172WHe3f"
      },
      "outputs": [],
      "source": [
        "def calculate_mean_deviation(serie):\n",
        "    return (serie - serie.mean()).abs().mean()\n"
      ]
    },
    {
      "cell_type": "code",
      "execution_count": 24,
      "metadata": {
        "colab": {
          "base_uri": "https://localhost:8080/"
        },
        "id": "TwNR9FTZK6Je",
        "outputId": "3f6d614d-3a09-4eb3-92bf-0d1e5a51b0f9"
      },
      "outputs": [
        {
          "data": {
            "text/plain": [
              "25.59445"
            ]
          },
          "execution_count": 24,
          "metadata": {},
          "output_type": "execute_result"
        }
      ],
      "source": [
        "calculate_mean_deviation(df_filtered_pokemons[\"Speed\"])"
      ]
    },
    {
      "cell_type": "code",
      "execution_count": 25,
      "metadata": {
        "id": "aA4j0SZaLLE5"
      },
      "outputs": [],
      "source": [
        "# Calculating the mean deviation for each species\n",
        "calculate_mean_deviation_by_species = df_filtered_pokemons_grouped_by_especies[\"Speed\"].apply(calculate_mean_deviation)"
      ]
    },
    {
      "cell_type": "code",
      "execution_count": 26,
      "metadata": {
        "colab": {
          "base_uri": "https://localhost:8080/",
          "height": 35
        },
        "id": "NQ45uSQDLOVV",
        "outputId": "bd7eb101-179b-4457-96d4-00ff89ef563f"
      },
      "outputs": [
        {
          "data": {
            "text/plain": [
              "'Penguin Pokémon'"
            ]
          },
          "execution_count": 26,
          "metadata": {},
          "output_type": "execute_result"
        }
      ],
      "source": [
        "# Checking which species has the largest mean deviation\n",
        "calculate_mean_deviation_by_species.idxmax()"
      ]
    },
    {
      "cell_type": "code",
      "execution_count": 27,
      "metadata": {
        "colab": {
          "base_uri": "https://localhost:8080/",
          "height": 143
        },
        "id": "2cJC5cfYLSse",
        "outputId": "0b300293-418a-4697-d4dd-80ad8e4c8d61"
      },
      "outputs": [
        {
          "data": {
            "text/html": [
              "<div>\n",
              "<style scoped>\n",
              "    .dataframe tbody tr th:only-of-type {\n",
              "        vertical-align: middle;\n",
              "    }\n",
              "\n",
              "    .dataframe tbody tr th {\n",
              "        vertical-align: top;\n",
              "    }\n",
              "\n",
              "    .dataframe thead th {\n",
              "        text-align: right;\n",
              "    }\n",
              "</style>\n",
              "<table border=\"1\" class=\"dataframe\">\n",
              "  <thead>\n",
              "    <tr style=\"text-align: right;\">\n",
              "      <th></th>\n",
              "      <th>Name</th>\n",
              "      <th>Type</th>\n",
              "      <th>Species</th>\n",
              "      <th>Height</th>\n",
              "      <th>Weight</th>\n",
              "      <th>Abilities</th>\n",
              "      <th>Catch rate</th>\n",
              "      <th>Base Friendship</th>\n",
              "      <th>Base Exp.</th>\n",
              "      <th>Growth Rate</th>\n",
              "      <th>Gender</th>\n",
              "      <th>HP</th>\n",
              "      <th>Attack</th>\n",
              "      <th>Defense</th>\n",
              "      <th>Sp. Atk</th>\n",
              "      <th>Sp. Def</th>\n",
              "      <th>Speed</th>\n",
              "    </tr>\n",
              "  </thead>\n",
              "  <tbody>\n",
              "    <tr>\n",
              "      <th>386</th>\n",
              "      <td>Piplup</td>\n",
              "      <td>Water</td>\n",
              "      <td>Penguin Pokémon</td>\n",
              "      <td>0.4</td>\n",
              "      <td>5.2</td>\n",
              "      <td>1. TorrentDefiant (hidden ability)</td>\n",
              "      <td>45</td>\n",
              "      <td>50</td>\n",
              "      <td>63</td>\n",
              "      <td>Medium Slow</td>\n",
              "      <td>87.5% male, 12.5% female</td>\n",
              "      <td>53</td>\n",
              "      <td>51</td>\n",
              "      <td>53</td>\n",
              "      <td>61</td>\n",
              "      <td>56</td>\n",
              "      <td>40</td>\n",
              "    </tr>\n",
              "    <tr>\n",
              "      <th>387</th>\n",
              "      <td>Prinplup</td>\n",
              "      <td>Water</td>\n",
              "      <td>Penguin Pokémon</td>\n",
              "      <td>0.8</td>\n",
              "      <td>23.0</td>\n",
              "      <td>1. TorrentDefiant (hidden ability)</td>\n",
              "      <td>45</td>\n",
              "      <td>50</td>\n",
              "      <td>142</td>\n",
              "      <td>Medium Slow</td>\n",
              "      <td>87.5% male, 12.5% female</td>\n",
              "      <td>64</td>\n",
              "      <td>66</td>\n",
              "      <td>68</td>\n",
              "      <td>81</td>\n",
              "      <td>76</td>\n",
              "      <td>50</td>\n",
              "    </tr>\n",
              "    <tr>\n",
              "      <th>863</th>\n",
              "      <td>Eiscue</td>\n",
              "      <td>Ice</td>\n",
              "      <td>Penguin Pokémon</td>\n",
              "      <td>1.4</td>\n",
              "      <td>89.0</td>\n",
              "      <td>Ice Face</td>\n",
              "      <td>60</td>\n",
              "      <td>50</td>\n",
              "      <td>165</td>\n",
              "      <td>Slow</td>\n",
              "      <td>50% male, 50% female</td>\n",
              "      <td>75</td>\n",
              "      <td>80</td>\n",
              "      <td>70</td>\n",
              "      <td>65</td>\n",
              "      <td>50</td>\n",
              "      <td>130</td>\n",
              "    </tr>\n",
              "  </tbody>\n",
              "</table>\n",
              "</div>"
            ],
            "text/plain": [
              "         Name   Type          Species  Height  Weight  \\\n",
              "386    Piplup  Water  Penguin Pokémon     0.4     5.2   \n",
              "387  Prinplup  Water  Penguin Pokémon     0.8    23.0   \n",
              "863    Eiscue    Ice  Penguin Pokémon     1.4    89.0   \n",
              "\n",
              "                              Abilities  Catch rate  Base Friendship  \\\n",
              "386  1. TorrentDefiant (hidden ability)          45               50   \n",
              "387  1. TorrentDefiant (hidden ability)          45               50   \n",
              "863                            Ice Face          60               50   \n",
              "\n",
              "     Base Exp.  Growth Rate                    Gender  HP  Attack  Defense  \\\n",
              "386         63  Medium Slow  87.5% male, 12.5% female  53      51       53   \n",
              "387        142  Medium Slow  87.5% male, 12.5% female  64      66       68   \n",
              "863        165         Slow      50% male, 50% female  75      80       70   \n",
              "\n",
              "     Sp. Atk  Sp. Def  Speed  \n",
              "386       61       56     40  \n",
              "387       81       76     50  \n",
              "863       65       50    130  "
            ]
          },
          "execution_count": 27,
          "metadata": {},
          "output_type": "execute_result"
        }
      ],
      "source": [
        "df_filtered_pokemons[df_filtered_pokemons[\"Species\"] == calculate_mean_deviation_by_species.idxmax()]"
      ]
    },
    {
      "cell_type": "code",
      "execution_count": 28,
      "metadata": {
        "colab": {
          "base_uri": "https://localhost:8080/",
          "height": 35
        },
        "id": "v4FzBj7GLVmK",
        "outputId": "ed3655dd-29b4-450e-8d0b-0d3c0f572757"
      },
      "outputs": [
        {
          "data": {
            "text/plain": [
              "'Vibration Pokémon'"
            ]
          },
          "execution_count": 28,
          "metadata": {},
          "output_type": "execute_result"
        }
      ],
      "source": [
        "# Checking which species has the smallest mean deviation\n",
        "calculate_mean_deviation_by_species.idxmin()"
      ]
    },
    {
      "cell_type": "code",
      "execution_count": 29,
      "metadata": {
        "colab": {
          "base_uri": "https://localhost:8080/",
          "height": 143
        },
        "id": "WwbVyidNLXJF",
        "outputId": "891100f6-4c7d-4fcb-b4bf-18339bc1bc8d"
      },
      "outputs": [
        {
          "data": {
            "text/html": [
              "<div>\n",
              "<style scoped>\n",
              "    .dataframe tbody tr th:only-of-type {\n",
              "        vertical-align: middle;\n",
              "    }\n",
              "\n",
              "    .dataframe tbody tr th {\n",
              "        vertical-align: top;\n",
              "    }\n",
              "\n",
              "    .dataframe thead th {\n",
              "        text-align: right;\n",
              "    }\n",
              "</style>\n",
              "<table border=\"1\" class=\"dataframe\">\n",
              "  <thead>\n",
              "    <tr style=\"text-align: right;\">\n",
              "      <th></th>\n",
              "      <th>Name</th>\n",
              "      <th>Type</th>\n",
              "      <th>Species</th>\n",
              "      <th>Height</th>\n",
              "      <th>Weight</th>\n",
              "      <th>Abilities</th>\n",
              "      <th>Catch rate</th>\n",
              "      <th>Base Friendship</th>\n",
              "      <th>Base Exp.</th>\n",
              "      <th>Growth Rate</th>\n",
              "      <th>Gender</th>\n",
              "      <th>HP</th>\n",
              "      <th>Attack</th>\n",
              "      <th>Defense</th>\n",
              "      <th>Sp. Atk</th>\n",
              "      <th>Sp. Def</th>\n",
              "      <th>Speed</th>\n",
              "    </tr>\n",
              "  </thead>\n",
              "  <tbody>\n",
              "    <tr>\n",
              "      <th>322</th>\n",
              "      <td>Vibrava</td>\n",
              "      <td>Ground Dragon</td>\n",
              "      <td>Vibration Pokémon</td>\n",
              "      <td>1.1</td>\n",
              "      <td>15.3</td>\n",
              "      <td>1. Levitate</td>\n",
              "      <td>120</td>\n",
              "      <td>50</td>\n",
              "      <td>119</td>\n",
              "      <td>Medium Slow</td>\n",
              "      <td>50% male, 50% female</td>\n",
              "      <td>50</td>\n",
              "      <td>70</td>\n",
              "      <td>50</td>\n",
              "      <td>50</td>\n",
              "      <td>50</td>\n",
              "      <td>70</td>\n",
              "    </tr>\n",
              "    <tr>\n",
              "      <th>528</th>\n",
              "      <td>Palpitoad</td>\n",
              "      <td>Water Ground</td>\n",
              "      <td>Vibration Pokémon</td>\n",
              "      <td>0.8</td>\n",
              "      <td>17.0</td>\n",
              "      <td>1. Swift Swim2. HydrationWater Absorb (hidden ...</td>\n",
              "      <td>120</td>\n",
              "      <td>50</td>\n",
              "      <td>134</td>\n",
              "      <td>Medium Slow</td>\n",
              "      <td>50% male, 50% female</td>\n",
              "      <td>75</td>\n",
              "      <td>65</td>\n",
              "      <td>55</td>\n",
              "      <td>65</td>\n",
              "      <td>55</td>\n",
              "      <td>69</td>\n",
              "    </tr>\n",
              "    <tr>\n",
              "      <th>529</th>\n",
              "      <td>Seismitoad</td>\n",
              "      <td>Water Ground</td>\n",
              "      <td>Vibration Pokémon</td>\n",
              "      <td>1.5</td>\n",
              "      <td>62.0</td>\n",
              "      <td>1. Swift Swim2. Poison TouchWater Absorb (hidd...</td>\n",
              "      <td>45</td>\n",
              "      <td>50</td>\n",
              "      <td>229</td>\n",
              "      <td>Medium Slow</td>\n",
              "      <td>50% male, 50% female</td>\n",
              "      <td>105</td>\n",
              "      <td>95</td>\n",
              "      <td>75</td>\n",
              "      <td>85</td>\n",
              "      <td>75</td>\n",
              "      <td>74</td>\n",
              "    </tr>\n",
              "  </tbody>\n",
              "</table>\n",
              "</div>"
            ],
            "text/plain": [
              "           Name           Type            Species  Height  Weight  \\\n",
              "322     Vibrava  Ground Dragon  Vibration Pokémon     1.1    15.3   \n",
              "528   Palpitoad   Water Ground  Vibration Pokémon     0.8    17.0   \n",
              "529  Seismitoad   Water Ground  Vibration Pokémon     1.5    62.0   \n",
              "\n",
              "                                             Abilities  Catch rate  \\\n",
              "322                                        1. Levitate         120   \n",
              "528  1. Swift Swim2. HydrationWater Absorb (hidden ...         120   \n",
              "529  1. Swift Swim2. Poison TouchWater Absorb (hidd...          45   \n",
              "\n",
              "     Base Friendship  Base Exp.  Growth Rate                Gender   HP  \\\n",
              "322               50        119  Medium Slow  50% male, 50% female   50   \n",
              "528               50        134  Medium Slow  50% male, 50% female   75   \n",
              "529               50        229  Medium Slow  50% male, 50% female  105   \n",
              "\n",
              "     Attack  Defense  Sp. Atk  Sp. Def  Speed  \n",
              "322      70       50       50       50     70  \n",
              "528      65       55       65       55     69  \n",
              "529      95       75       85       75     74  "
            ]
          },
          "execution_count": 29,
          "metadata": {},
          "output_type": "execute_result"
        }
      ],
      "source": [
        "df_filtered_pokemons[df_filtered_pokemons[\"Species\"] == calculate_mean_deviation_by_species.idxmin()]"
      ]
    },
    {
      "cell_type": "markdown",
      "metadata": {
        "id": "aobKWKIOLtMp"
      },
      "source": [
        "## 🤓 Standard Deviation 🤓\n"
      ]
    },
    {
      "cell_type": "code",
      "execution_count": 30,
      "metadata": {
        "id": "etK09kdcK5WH"
      },
      "outputs": [],
      "source": [
        "def calculate_standard_deviation(serie):\n",
        "    return serie.std()"
      ]
    },
    {
      "cell_type": "code",
      "execution_count": 31,
      "metadata": {
        "colab": {
          "base_uri": "https://localhost:8080/"
        },
        "id": "i4_h3io_L3a_",
        "outputId": "d1893e72-a86d-4480-b040-a16d45d85e96"
      },
      "outputs": [
        {
          "data": {
            "text/plain": [
              "30.00509002045617"
            ]
          },
          "execution_count": 31,
          "metadata": {},
          "output_type": "execute_result"
        }
      ],
      "source": [
        "calculate_standard_deviation(df_filtered_pokemons[\"Attack\"])"
      ]
    },
    {
      "cell_type": "code",
      "execution_count": 32,
      "metadata": {
        "id": "Yu9MWW9vL8gz"
      },
      "outputs": [],
      "source": [
        "# Calculating the standard deviation for each species\n",
        "calculate_standard_deviation_by_species = df_filtered_pokemons_grouped_by_especies[\"Attack\"].apply(calculate_standard_deviation)"
      ]
    },
    {
      "cell_type": "code",
      "execution_count": 33,
      "metadata": {
        "colab": {
          "base_uri": "https://localhost:8080/",
          "height": 35
        },
        "id": "N3gDR3qDL-fe",
        "outputId": "0ee83eb9-6ca6-415f-a33e-14949380edd0"
      },
      "outputs": [
        {
          "data": {
            "text/plain": [
              "'Mud Fish Pokémon'"
            ]
          },
          "execution_count": 33,
          "metadata": {},
          "output_type": "execute_result"
        }
      ],
      "source": [
        "# Checking which species has the largest standard deviation\n",
        "calculate_standard_deviation_by_species.idxmax()"
      ]
    },
    {
      "cell_type": "code",
      "execution_count": 34,
      "metadata": {
        "colab": {
          "base_uri": "https://localhost:8080/",
          "height": 143
        },
        "id": "JsZ6I0s0MEnK",
        "outputId": "66b9eacf-ffc1-4ebd-a354-948ddc0f9b27"
      },
      "outputs": [
        {
          "data": {
            "text/html": [
              "<div>\n",
              "<style scoped>\n",
              "    .dataframe tbody tr th:only-of-type {\n",
              "        vertical-align: middle;\n",
              "    }\n",
              "\n",
              "    .dataframe tbody tr th {\n",
              "        vertical-align: top;\n",
              "    }\n",
              "\n",
              "    .dataframe thead th {\n",
              "        text-align: right;\n",
              "    }\n",
              "</style>\n",
              "<table border=\"1\" class=\"dataframe\">\n",
              "  <thead>\n",
              "    <tr style=\"text-align: right;\">\n",
              "      <th></th>\n",
              "      <th>Name</th>\n",
              "      <th>Type</th>\n",
              "      <th>Species</th>\n",
              "      <th>Height</th>\n",
              "      <th>Weight</th>\n",
              "      <th>Abilities</th>\n",
              "      <th>Catch rate</th>\n",
              "      <th>Base Friendship</th>\n",
              "      <th>Base Exp.</th>\n",
              "      <th>Growth Rate</th>\n",
              "      <th>Gender</th>\n",
              "      <th>HP</th>\n",
              "      <th>Attack</th>\n",
              "      <th>Defense</th>\n",
              "      <th>Sp. Atk</th>\n",
              "      <th>Sp. Def</th>\n",
              "      <th>Speed</th>\n",
              "    </tr>\n",
              "  </thead>\n",
              "  <tbody>\n",
              "    <tr>\n",
              "      <th>251</th>\n",
              "      <td>Mudkip</td>\n",
              "      <td>Water</td>\n",
              "      <td>Mud Fish Pokémon</td>\n",
              "      <td>0.4</td>\n",
              "      <td>7.6</td>\n",
              "      <td>1. TorrentDamp (hidden ability)</td>\n",
              "      <td>45</td>\n",
              "      <td>50</td>\n",
              "      <td>62</td>\n",
              "      <td>Medium Slow</td>\n",
              "      <td>87.5% male, 12.5% female</td>\n",
              "      <td>50</td>\n",
              "      <td>70</td>\n",
              "      <td>50</td>\n",
              "      <td>50</td>\n",
              "      <td>50</td>\n",
              "      <td>40</td>\n",
              "    </tr>\n",
              "    <tr>\n",
              "      <th>252</th>\n",
              "      <td>Marshtomp</td>\n",
              "      <td>Water Ground</td>\n",
              "      <td>Mud Fish Pokémon</td>\n",
              "      <td>0.7</td>\n",
              "      <td>28.0</td>\n",
              "      <td>1. TorrentDamp (hidden ability)</td>\n",
              "      <td>45</td>\n",
              "      <td>50</td>\n",
              "      <td>142</td>\n",
              "      <td>Medium Slow</td>\n",
              "      <td>87.5% male, 12.5% female</td>\n",
              "      <td>70</td>\n",
              "      <td>85</td>\n",
              "      <td>70</td>\n",
              "      <td>60</td>\n",
              "      <td>70</td>\n",
              "      <td>50</td>\n",
              "    </tr>\n",
              "    <tr>\n",
              "      <th>253</th>\n",
              "      <td>Swampert</td>\n",
              "      <td>Water Ground</td>\n",
              "      <td>Mud Fish Pokémon</td>\n",
              "      <td>1.9</td>\n",
              "      <td>102.0</td>\n",
              "      <td>Swift Swim</td>\n",
              "      <td>45</td>\n",
              "      <td>50</td>\n",
              "      <td>286</td>\n",
              "      <td>Medium Slow</td>\n",
              "      <td>87.5% male, 12.5% female</td>\n",
              "      <td>100</td>\n",
              "      <td>150</td>\n",
              "      <td>110</td>\n",
              "      <td>95</td>\n",
              "      <td>110</td>\n",
              "      <td>70</td>\n",
              "    </tr>\n",
              "  </tbody>\n",
              "</table>\n",
              "</div>"
            ],
            "text/plain": [
              "          Name          Type           Species  Height  Weight  \\\n",
              "251     Mudkip         Water  Mud Fish Pokémon     0.4     7.6   \n",
              "252  Marshtomp  Water Ground  Mud Fish Pokémon     0.7    28.0   \n",
              "253   Swampert  Water Ground  Mud Fish Pokémon     1.9   102.0   \n",
              "\n",
              "                           Abilities  Catch rate  Base Friendship  Base Exp.  \\\n",
              "251  1. TorrentDamp (hidden ability)          45               50         62   \n",
              "252  1. TorrentDamp (hidden ability)          45               50        142   \n",
              "253                       Swift Swim          45               50        286   \n",
              "\n",
              "     Growth Rate                    Gender   HP  Attack  Defense  Sp. Atk  \\\n",
              "251  Medium Slow  87.5% male, 12.5% female   50      70       50       50   \n",
              "252  Medium Slow  87.5% male, 12.5% female   70      85       70       60   \n",
              "253  Medium Slow  87.5% male, 12.5% female  100     150      110       95   \n",
              "\n",
              "     Sp. Def  Speed  \n",
              "251       50     40  \n",
              "252       70     50  \n",
              "253      110     70  "
            ]
          },
          "execution_count": 34,
          "metadata": {},
          "output_type": "execute_result"
        }
      ],
      "source": [
        "df_filtered_pokemons[df_filtered_pokemons[\"Species\"] == calculate_standard_deviation_by_species.idxmax()]"
      ]
    },
    {
      "cell_type": "code",
      "execution_count": 35,
      "metadata": {
        "colab": {
          "base_uri": "https://localhost:8080/",
          "height": 35
        },
        "id": "Y1q211OAMHEW",
        "outputId": "d5d69898-865f-4c0d-eb29-62c9a718f30c"
      },
      "outputs": [
        {
          "data": {
            "text/plain": [
              "'Flower Pokémon'"
            ]
          },
          "execution_count": 35,
          "metadata": {},
          "output_type": "execute_result"
        }
      ],
      "source": [
        "# Checking which species has the smallest standard deviation\n",
        "calculate_standard_deviation_by_species.idxmin()"
      ]
    },
    {
      "cell_type": "code",
      "execution_count": 36,
      "metadata": {
        "colab": {
          "base_uri": "https://localhost:8080/",
          "height": 143
        },
        "id": "YUUZYkXiMLJi",
        "outputId": "9d9df50b-70b8-49c3-bd20-8728be46dbd4"
      },
      "outputs": [
        {
          "data": {
            "text/html": [
              "<div>\n",
              "<style scoped>\n",
              "    .dataframe tbody tr th:only-of-type {\n",
              "        vertical-align: middle;\n",
              "    }\n",
              "\n",
              "    .dataframe tbody tr th {\n",
              "        vertical-align: top;\n",
              "    }\n",
              "\n",
              "    .dataframe thead th {\n",
              "        text-align: right;\n",
              "    }\n",
              "</style>\n",
              "<table border=\"1\" class=\"dataframe\">\n",
              "  <thead>\n",
              "    <tr style=\"text-align: right;\">\n",
              "      <th></th>\n",
              "      <th>Name</th>\n",
              "      <th>Type</th>\n",
              "      <th>Species</th>\n",
              "      <th>Height</th>\n",
              "      <th>Weight</th>\n",
              "      <th>Abilities</th>\n",
              "      <th>Catch rate</th>\n",
              "      <th>Base Friendship</th>\n",
              "      <th>Base Exp.</th>\n",
              "      <th>Growth Rate</th>\n",
              "      <th>Gender</th>\n",
              "      <th>HP</th>\n",
              "      <th>Attack</th>\n",
              "      <th>Defense</th>\n",
              "      <th>Sp. Atk</th>\n",
              "      <th>Sp. Def</th>\n",
              "      <th>Speed</th>\n",
              "    </tr>\n",
              "  </thead>\n",
              "  <tbody>\n",
              "    <tr>\n",
              "      <th>38</th>\n",
              "      <td>Vileplume</td>\n",
              "      <td>Grass Poison</td>\n",
              "      <td>Flower Pokémon</td>\n",
              "      <td>1.2</td>\n",
              "      <td>18.6</td>\n",
              "      <td>1. ChlorophyllEffect Spore (hidden ability)</td>\n",
              "      <td>45</td>\n",
              "      <td>50</td>\n",
              "      <td>221</td>\n",
              "      <td>Medium Slow</td>\n",
              "      <td>50% male, 50% female</td>\n",
              "      <td>75</td>\n",
              "      <td>80</td>\n",
              "      <td>85</td>\n",
              "      <td>110</td>\n",
              "      <td>90</td>\n",
              "      <td>50</td>\n",
              "    </tr>\n",
              "    <tr>\n",
              "      <th>62</th>\n",
              "      <td>Bellsprout</td>\n",
              "      <td>Grass Poison</td>\n",
              "      <td>Flower Pokémon</td>\n",
              "      <td>0.7</td>\n",
              "      <td>4.0</td>\n",
              "      <td>1. ChlorophyllGluttony (hidden ability)</td>\n",
              "      <td>255</td>\n",
              "      <td>50</td>\n",
              "      <td>60</td>\n",
              "      <td>Medium Slow</td>\n",
              "      <td>50% male, 50% female</td>\n",
              "      <td>50</td>\n",
              "      <td>75</td>\n",
              "      <td>35</td>\n",
              "      <td>70</td>\n",
              "      <td>30</td>\n",
              "      <td>40</td>\n",
              "    </tr>\n",
              "    <tr>\n",
              "      <th>175</th>\n",
              "      <td>Bellossom</td>\n",
              "      <td>Grass</td>\n",
              "      <td>Flower Pokémon</td>\n",
              "      <td>0.4</td>\n",
              "      <td>5.8</td>\n",
              "      <td>1. ChlorophyllHealer (hidden ability)</td>\n",
              "      <td>45</td>\n",
              "      <td>50</td>\n",
              "      <td>221</td>\n",
              "      <td>Medium Slow</td>\n",
              "      <td>50% male, 50% female</td>\n",
              "      <td>75</td>\n",
              "      <td>80</td>\n",
              "      <td>95</td>\n",
              "      <td>90</td>\n",
              "      <td>100</td>\n",
              "      <td>50</td>\n",
              "    </tr>\n",
              "  </tbody>\n",
              "</table>\n",
              "</div>"
            ],
            "text/plain": [
              "           Name          Type         Species  Height  Weight  \\\n",
              "38    Vileplume  Grass Poison  Flower Pokémon     1.2    18.6   \n",
              "62   Bellsprout  Grass Poison  Flower Pokémon     0.7     4.0   \n",
              "175   Bellossom         Grass  Flower Pokémon     0.4     5.8   \n",
              "\n",
              "                                       Abilities  Catch rate  Base Friendship  \\\n",
              "38   1. ChlorophyllEffect Spore (hidden ability)          45               50   \n",
              "62       1. ChlorophyllGluttony (hidden ability)         255               50   \n",
              "175        1. ChlorophyllHealer (hidden ability)          45               50   \n",
              "\n",
              "     Base Exp.  Growth Rate                Gender  HP  Attack  Defense  \\\n",
              "38         221  Medium Slow  50% male, 50% female  75      80       85   \n",
              "62          60  Medium Slow  50% male, 50% female  50      75       35   \n",
              "175        221  Medium Slow  50% male, 50% female  75      80       95   \n",
              "\n",
              "     Sp. Atk  Sp. Def  Speed  \n",
              "38       110       90     50  \n",
              "62        70       30     40  \n",
              "175       90      100     50  "
            ]
          },
          "execution_count": 36,
          "metadata": {},
          "output_type": "execute_result"
        }
      ],
      "source": [
        "df_filtered_pokemons[df_filtered_pokemons[\"Species\"] == calculate_standard_deviation_by_species.idxmin()]"
      ]
    },
    {
      "cell_type": "markdown",
      "metadata": {
        "id": "dkcGksy_MNn2"
      },
      "source": [
        "## 🐍 Real Frontend 🐍"
      ]
    },
    {
      "cell_type": "code",
      "execution_count": 37,
      "metadata": {
        "id": "E4xR1c0DAApE"
      },
      "outputs": [],
      "source": [
        "def update_widget(column, species, calculation_type):\n",
        "    if column in df_pokemons.columns:\n",
        "        df_filtered_pokemons = df_pokemons[df_pokemons[\"Species\"] == species]\n",
        "\n",
        "        if not df_filtered_pokemons.empty:\n",
        "            if calculation_type == \"Total Range\":\n",
        "                result = calculate_total_range(df_filtered_pokemons[column])\n",
        "            elif calculation_type == \"Quartile Deviation\":\n",
        "                result = calculate_quartile_deviation(df_filtered_pokemons[column])\n",
        "            elif calculation_type == \"Mean Deviation\":\n",
        "                result = calculate_mean_deviation(df_filtered_pokemons[column])\n",
        "            elif calculation_type == \"Standard Deviation\":\n",
        "                result = calculate_standard_deviation(df_filtered_pokemons[column])\n",
        "\n",
        "            print(f\"For species {species} and column {column}:\")\n",
        "            print(f\"{calculation_type}: {result}\")\n",
        "\n",
        "            plt.figure(figsize=(10, 6))\n",
        "            sns.boxplot(x=df_filtered_pokemons[column])\n",
        "            plt.title(f'Box Plot of {column} Values for Species {species}')\n",
        "            plt.xlabel(column)\n",
        "            plt.grid(True)\n",
        "            plt.show()\n",
        "\n",
        "        else:\n",
        "            print(f\"No data found for species {species}.\")\n"
      ]
    },
    {
      "cell_type": "code",
      "execution_count": 38,
      "metadata": {
        "id": "AbHldBBvPKvt"
      },
      "outputs": [],
      "source": [
        "numeric_columns = df_filtered_pokemons.select_dtypes(include=[np.number]).columns"
      ]
    },
    {
      "cell_type": "code",
      "execution_count": 39,
      "metadata": {
        "id": "iVXvx7qTAgZb"
      },
      "outputs": [],
      "source": [
        "column_selector = widgets.Dropdown(\n",
        "    options=numeric_columns,\n",
        "    value=\"HP\",\n",
        "    description=\"Column:\",\n",
        ")"
      ]
    },
    {
      "cell_type": "code",
      "execution_count": 40,
      "metadata": {},
      "outputs": [],
      "source": [
        "species_selector = widgets.Dropdown(\n",
        "    options=df_filtered_pokemons[\"Species\"].unique(),\n",
        "    value=\"Tiny Bird Pokémon\",\n",
        "    description=\"Species:\",\n",
        ")"
      ]
    },
    {
      "cell_type": "code",
      "execution_count": 41,
      "metadata": {},
      "outputs": [],
      "source": [
        "calculation_selector = widgets.Dropdown(\n",
        "    options=[\"Total Range\", \"Quartile Deviation\", \"Mean Deviation\", \"Standard Deviation\"],\n",
        "    value=\"Total Range\",\n",
        "    description=\"Calculation Type:\",\n",
        ")"
      ]
    },
    {
      "cell_type": "code",
      "execution_count": 42,
      "metadata": {
        "colab": {
          "base_uri": "https://localhost:8080/",
          "height": 696,
          "referenced_widgets": [
            "8ff27fed5e404be19481a559febae7a2",
            "21db1b75eb8c461aaea5721fd4593e71",
            "d044a805996c4edbbf64d440e8334c34",
            "34ee2115bc7c4eee9cd28b5d10375cd5",
            "66b8183637314c57a3ed600688eeeae1",
            "4d40a4c90a8d4c72b6548bbe5145a076",
            "87e9faf52f3c426da99377554e5732f6",
            "785dce4f0b254899a7a952a1e58bd434",
            "62895284994346e58267a4bc7ae4420e",
            "1eb1ab66e81042cf96fbd27db315bb4b",
            "977a5e2b0e454e7dba0fda0bf203c383",
            "7e3635d1a9bb4383a15f1cc5d50500ae",
            "efa8106c475d424d8ec458674d33b618"
          ]
        },
        "id": "1lmDBrnhEDP-",
        "outputId": "31c59271-561a-4158-e347-00b316551769"
      },
      "outputs": [
        {
          "data": {
            "application/vnd.jupyter.widget-view+json": {
              "model_id": "f181089e43214d76a7a39c1b59374595",
              "version_major": 2,
              "version_minor": 0
            },
            "text/plain": [
              "interactive(children=(Dropdown(description='Column:', index=5, options=('Height', 'Weight', 'Catch rate', 'Bas…"
            ]
          },
          "execution_count": 42,
          "metadata": {},
          "output_type": "execute_result"
        }
      ],
      "source": [
        "widgets.interactive(update_widget, column=column_selector, species=species_selector, calculation_type=calculation_selector)"
      ]
    }
  ],
  "metadata": {
    "colab": {
      "provenance": []
    },
    "kernelspec": {
      "display_name": "Python 3",
      "name": "python3"
    },
    "language_info": {
      "codemirror_mode": {
        "name": "ipython",
        "version": 3
      },
      "file_extension": ".py",
      "mimetype": "text/x-python",
      "name": "python",
      "nbconvert_exporter": "python",
      "pygments_lexer": "ipython3",
      "version": "3.10.11"
    },
    "widgets": {
      "application/vnd.jupyter.widget-state+json": {
        "1eb1ab66e81042cf96fbd27db315bb4b": {
          "model_module": "@jupyter-widgets/controls",
          "model_module_version": "1.5.0",
          "model_name": "DescriptionStyleModel",
          "state": {
            "_model_module": "@jupyter-widgets/controls",
            "_model_module_version": "1.5.0",
            "_model_name": "DescriptionStyleModel",
            "_view_count": null,
            "_view_module": "@jupyter-widgets/base",
            "_view_module_version": "1.2.0",
            "_view_name": "StyleView",
            "description_width": ""
          }
        },
        "21db1b75eb8c461aaea5721fd4593e71": {
          "model_module": "@jupyter-widgets/controls",
          "model_module_version": "1.5.0",
          "model_name": "DropdownModel",
          "state": {
            "_dom_classes": [],
            "_model_module": "@jupyter-widgets/controls",
            "_model_module_version": "1.5.0",
            "_model_name": "DropdownModel",
            "_options_labels": [
              "Height",
              "Weight",
              "Catch rate",
              "Base Friendship",
              "Base Exp.",
              "HP",
              "Attack",
              "Defense",
              "Sp. Atk",
              "Sp. Def",
              "Speed"
            ],
            "_view_count": null,
            "_view_module": "@jupyter-widgets/controls",
            "_view_module_version": "1.5.0",
            "_view_name": "DropdownView",
            "description": "Coluna:",
            "description_tooltip": null,
            "disabled": false,
            "index": 2,
            "layout": "IPY_MODEL_87e9faf52f3c426da99377554e5732f6",
            "style": "IPY_MODEL_785dce4f0b254899a7a952a1e58bd434"
          }
        },
        "34ee2115bc7c4eee9cd28b5d10375cd5": {
          "model_module": "@jupyter-widgets/controls",
          "model_module_version": "1.5.0",
          "model_name": "DropdownModel",
          "state": {
            "_dom_classes": [],
            "_model_module": "@jupyter-widgets/controls",
            "_model_module_version": "1.5.0",
            "_model_name": "DropdownModel",
            "_options_labels": [
              "Amplitude Total",
              "Desvio Quartilíco",
              "Desvio Médio",
              "Desvio Padrão"
            ],
            "_view_count": null,
            "_view_module": "@jupyter-widgets/controls",
            "_view_module_version": "1.5.0",
            "_view_name": "DropdownView",
            "description": "Tipo de Cálculo:",
            "description_tooltip": null,
            "disabled": false,
            "index": 1,
            "layout": "IPY_MODEL_977a5e2b0e454e7dba0fda0bf203c383",
            "style": "IPY_MODEL_7e3635d1a9bb4383a15f1cc5d50500ae"
          }
        },
        "4d40a4c90a8d4c72b6548bbe5145a076": {
          "model_module": "@jupyter-widgets/base",
          "model_module_version": "1.2.0",
          "model_name": "LayoutModel",
          "state": {
            "_model_module": "@jupyter-widgets/base",
            "_model_module_version": "1.2.0",
            "_model_name": "LayoutModel",
            "_view_count": null,
            "_view_module": "@jupyter-widgets/base",
            "_view_module_version": "1.2.0",
            "_view_name": "LayoutView",
            "align_content": null,
            "align_items": null,
            "align_self": null,
            "border": null,
            "bottom": null,
            "display": null,
            "flex": null,
            "flex_flow": null,
            "grid_area": null,
            "grid_auto_columns": null,
            "grid_auto_flow": null,
            "grid_auto_rows": null,
            "grid_column": null,
            "grid_gap": null,
            "grid_row": null,
            "grid_template_areas": null,
            "grid_template_columns": null,
            "grid_template_rows": null,
            "height": null,
            "justify_content": null,
            "justify_items": null,
            "left": null,
            "margin": null,
            "max_height": null,
            "max_width": null,
            "min_height": null,
            "min_width": null,
            "object_fit": null,
            "object_position": null,
            "order": null,
            "overflow": null,
            "overflow_x": null,
            "overflow_y": null,
            "padding": null,
            "right": null,
            "top": null,
            "visibility": null,
            "width": null
          }
        },
        "62895284994346e58267a4bc7ae4420e": {
          "model_module": "@jupyter-widgets/base",
          "model_module_version": "1.2.0",
          "model_name": "LayoutModel",
          "state": {
            "_model_module": "@jupyter-widgets/base",
            "_model_module_version": "1.2.0",
            "_model_name": "LayoutModel",
            "_view_count": null,
            "_view_module": "@jupyter-widgets/base",
            "_view_module_version": "1.2.0",
            "_view_name": "LayoutView",
            "align_content": null,
            "align_items": null,
            "align_self": null,
            "border": null,
            "bottom": null,
            "display": null,
            "flex": null,
            "flex_flow": null,
            "grid_area": null,
            "grid_auto_columns": null,
            "grid_auto_flow": null,
            "grid_auto_rows": null,
            "grid_column": null,
            "grid_gap": null,
            "grid_row": null,
            "grid_template_areas": null,
            "grid_template_columns": null,
            "grid_template_rows": null,
            "height": null,
            "justify_content": null,
            "justify_items": null,
            "left": null,
            "margin": null,
            "max_height": null,
            "max_width": null,
            "min_height": null,
            "min_width": null,
            "object_fit": null,
            "object_position": null,
            "order": null,
            "overflow": null,
            "overflow_x": null,
            "overflow_y": null,
            "padding": null,
            "right": null,
            "top": null,
            "visibility": null,
            "width": null
          }
        },
        "66b8183637314c57a3ed600688eeeae1": {
          "model_module": "@jupyter-widgets/output",
          "model_module_version": "1.0.0",
          "model_name": "OutputModel",
          "state": {
            "_dom_classes": [],
            "_model_module": "@jupyter-widgets/output",
            "_model_module_version": "1.0.0",
            "_model_name": "OutputModel",
            "_view_count": null,
            "_view_module": "@jupyter-widgets/output",
            "_view_module_version": "1.0.0",
            "_view_name": "OutputView",
            "layout": "IPY_MODEL_efa8106c475d424d8ec458674d33b618",
            "msg_id": "",
            "outputs": [
              {
                "name": "stdout",
                "output_type": "stream",
                "text": [
                  "Para a espécie Worm Pokémon e coluna Catch rate:\n",
                  "Desvio Quartilíco: 32.5\n"
                ]
              },
              {
                "data": {
                  "image/png": "iVBORw0KGgoAAAANSUhEUgAAAx8AAAIkCAYAAAB/bpZ/AAAAOXRFWHRTb2Z0d2FyZQBNYXRwbG90bGliIHZlcnNpb24zLjcuMSwgaHR0cHM6Ly9tYXRwbG90bGliLm9yZy/bCgiHAAAACXBIWXMAAA9hAAAPYQGoP6dpAABB6klEQVR4nO3de5yN5f7/8fea84wxMzQzjuNMkkF7KIRBcghbRYrkkERI7MpOtYvSQSqnENoNKe1KSSfHSJukFNqEmNDBGCHjMDEz5vr94bfur2VOawbXMryej4fHw7pP67qvz7oP77Xu+x6XMcYIAAAAAC4wP183AAAAAMDlgfABAAAAwArCBwAAAAArCB8AAAAArCB8AAAAALCC8AEAAADACsIHAAAAACsIHwAAAACsIHwAAHAZyszM1PPPP6+PP/7Y103BBUSdcbEhfKDY2r17t1wul2bPnu2zNrRs2VItW7b02fufD5fCOrjNnj1bLpdLu3fv9nVTLhj35/7FF1/0dVNQzD3yyCN67bXX1Lhx40LPezHsfy9HLVu2VN26dQs1z7nUGbgQCB9wTtjO/BcbG6tWrVpp0aJF1tvzxRdfeLQlMDBQ1apVU+/evfXzzz+fl/f46quvNHr0aB0+fPi8LM+GDz74QC6XS6+99lqe0yxbtkwul0uTJ0+22LJLX2pqqh566CHVrl1bYWFhKlGihBISEjR27NgifYbmzZuniRMnnvd22vLjjz9q9OjRl3TIu9QtXLhQb775phYvXqyYmBiftuXUqVOKiIhQly5dcoybMGGCXC6X+vTpk2PcE088IZfLpZ9++slGM4vExvEsPxdTnQG3AF83ABePp556SlWrVpUxRqmpqZo9e7Zuuukmffzxx+rUqZP19gwbNkyNGjVSZmamvv/+e82cOVOffvqp/ve//6l8+fLntOyvvvpKY8aMUd++fRUVFXV+GnyBdezYUZGRkZo3b57uueeeXKeZN2+e/P39dccdd1hu3aXr22+/1U033aRjx46pV69eSkhIkCStX79ezz//vL788kstXbq0UMucN2+eNm/erOHDh1+AFl94P/74o8aMGaOWLVuqSpUqvm4OimD37t1atGiRatSoUaT5K1eurL/++kuBgYHn3BZ/f381btxYX331VY5xa9asUUBAgNasWZPruNjYWNWqVeuc23ChXcjjWX7Otc7AhUD4gKNDhw5q2LCh87p///4qU6aM3n77bZ+Ej+bNm6tbt26SpH79+qlWrVoaNmyY5syZo1GjRllvj68FBwerW7duSkpK0t69e3McsE6cOKEFCxboxhtvVGxsrE/amJWVpezsbAUFBfnk/c+3w4cP65ZbbpG/v782bNig2rVre4x/5plnNGvWLB+17vw5fvy4SpQo4etmWJOenq6wsDBfN8OnHnjggXOa3+VyKSQk5Dy1RmrWrJmWLVumrVu36qqrrnKGr1mzRt27d9e8efO0b98+lS1bVtLpfc26devUtm3bc35vG59/Xx3PzrXOwIXAZVfIU1RUlEJDQxUQ4JlRjx8/rgcffFBxcXEKDg7WlVdeqRdffFHGGEnSX3/9pdq1a6t27dr666+/nPkOHTqkcuXKqWnTpjp16lSh29O6dWtJ0q5du/KdbsWKFWrevLlKlCihqKgodenSRVu3bnXGjx49Wg8//LAkqWrVqs7P4QVdQjJz5kxVr15doaGhuvbaa/Xf//431+n279/vBLeQkBDVr19fc+bMyTHdf/7zHyUkJKhkyZKKiIhQfHy8Jk2alG8bevXqpezsbP3nP//JMe7TTz9VWlqa7rzzTklSUlKSWrdurdjYWAUHB6tOnTqaPn16vssvzDqcee/BxIkTVb16dQUHB+vHH3+UJG3btk3dunVT6dKlFRISooYNG+qjjz7yWEZmZqbGjBmjmjVrKiQkRFdccYVzElKQLVu2qHXr1goNDVXFihU1duxYZWdn5zrtokWLnM9EyZIl1bFjR23ZsqXA95gxY4Z+//13vfzyyzmChySVKVNGjz/+uPN64cKF6tixo8qXL6/g4GBVr15dTz/9tMfnvWXLlvr000+1Z88e57N35q8HJ06c0OjRo1WrVi2FhISoXLlyuvXWW5WcnJzj/d2fyeDgYDVq1Ejffvttgevkvsxy1apVGjx4sGJjY1WxYkVJ0p49ezR48GBdeeWVCg0N1RVXXKHbbrvNY9uYPXu2brvtNklSq1atnHX44osvnGmK2t/utn355ZcaOHCgrrjiCkVERKh37976888/Pab1pq+l/7tG/rvvvlOLFi0UFhamRx99tFDLyI03fZWf7OxsTZw4UVdffbVCQkJUpkwZDRw4MMd6rl+/Xu3atVN0dLRCQ0NVtWpV3X333c74M7fDCRMmqHLlygoNDVViYqI2b96c43292S6l08F7xIgRqlKlioKDg1WxYkX17t1bBw4c8Hjfs+/58Hb5Z2vWrJkkefzC8fPPP2vfvn0aOnSoQkJCPMZt3LhRx48fd+aTCt73S6f3/y6XSz/++KN69uypUqVKOcuoUqWKOnXqpC+++EINGzZUaGio4uPjnc/2Bx98oPj4eIWEhCghIUEbNmwocL3yktvxbNq0abr66qsVHBys8uXLa8iQIV5d1rl06VKFhYWpR48eysrKkuRdHdzb2+rVqzVs2DDFxMQoKipKAwcOVEZGhg4fPqzevXurVKlSKlWqlEaOHOkc590KOh9wc7lcGjp0qD788EPVrVtXwcHBuvrqq7V48eKidB+KO4PLXlJSkpFkli9fbv744w+zf/9+s3nzZjNw4EDj5+dnli5d6kybnZ1tWrdubVwul7nnnnvMK6+8Yjp37mwkmeHDhzvTff3118bf39+MGDHCGXbHHXeY0NBQs3379nzbs3LlSiPJvPfeex7DFy5caCSZRx55xBhjzK5du4wkk5SU5EyzbNkyExAQYGrVqmVeeOEFM2bMGBMdHW1KlSpldu3aZYwxZtOmTaZHjx5GkpkwYYKZO3eumTt3rjl27FiebXrttdeMJNO0aVMzefJkM3z4cBMVFWWqVatmEhMTnenS09PNVVddZQIDA82IESPM5MmTTfPmzY0kM3HiRGe6pUuXGknmhhtuMFOnTjVTp041Q4cONbfddlu+fXPq1ClTsWJFk5CQkGPcrbfeasLCwszRo0eNMcY0atTI9O3b10yYMMFMmTLFtG3b1kgyr7zyisd8iYmJRVoHd//XqVPHVKtWzTz//PNmwoQJZs+ePWbz5s0mMjLS1KlTx4wbN8688sorpkWLFsblcpkPPvjAWcajjz5qXC6XGTBggJk1a5Z56aWXTI8ePczzzz+fbz+kpKSYmJgYU6pUKTN69Ggzfvx4U7NmTVOvXj0jyam1Mca88cYbxuVymfbt25spU6aYcePGmSpVqpioqCiP6XLTtGlTExoaak6ePJnvdG4333yz6d69uxk/fryZPn26ue2224wk89BDDznTLF261DRo0MBER0c7n70FCxYYY4zJysoyN9xwg5Fk7rjjDvPKK6+Y5557zrRu3dp8+OGHHv1+zTXXmBo1aphx48aZF154wURHR5uKFSuajIyMfNvo3t7r1KljEhMTzZQpU5z+fu+990z9+vXNE088YWbOnGkeffRRU6pUKVO5cmVz/PhxY4wxycnJZtiwYUaSefTRR5112Ldv3zn3t7tt8fHxpnnz5mby5MlmyJAhxs/Pz7Ro0cJkZ2cXqq+NOf35Llu2rImJiTH333+/mTFjhtOX3i4jN970VX7uueceExAQYAYMGGBeffVV889//tOUKFHCNGrUyKlhamqqKVWqlKlVq5YZP368mTVrlnnsscfMVVdd5SzH/XmIj483VapUMePGjTNjxowxpUuXNjExMU5djDFeb5dHjx41devWNf7+/mbAgAFm+vTp5umnnzaNGjUyGzZs8HjfM/e/3i4/N8ePHzcBAQGmT58+zrA33njDlChRwmRmZppmzZp5HE8mTpxoJJl169YZY7zb9xtjzJNPPul8/rt06WKmTZtmpk6daowxpnLlyubKK6805cqVM6NHjzYTJkwwFSpUMOHh4ebNN980lSpVMs8//7x5/vnnTWRkpKlRo4Y5depUvuvl7fHM3a42bdqYKVOmmKFDhxp/f3+Pz4Mxpz/PV199tfP6448/NsHBwaZ3794mKyurUHVwb28NGjQw7du3N1OnTjV33XWXkWRGjhxpmjVrZnr27GmmTZtmOnXqZCSZOXPmOPN7ez5gjDGSTP369U25cuXM008/bSZOnGiqVatmwsLCzIEDB/LtQ1x6CB9wdkBn/wsODjazZ8/2mPbDDz80kszYsWM9hnfr1s24XC6zc+dOZ9ioUaOMn5+f+fLLL817772X4+Q1L+6d9euvv27++OMPs3fvXvPpp5+aKlWqGJfLZb799ltjTO4HvwYNGpjY2Fhz8OBBZ9imTZuMn5+f6d27tzNs/PjxOU5S85KRkWFiY2NNgwYNPE5CZ86caSR5nLi7D4hvvvmmx/xNmjQx4eHh5siRI8YYYx544AETERHhHCwK4+GHHzaSPEJcWlqaCQkJMT169HCGpaen55i3Xbt2plq1ah7Dzg4f3q6Du/8jIiLM/v37PZZ5ww03mPj4eHPixAlnWHZ2tmnatKmpWbOmM6x+/fqmY8eOhewBY4YPH+5x4mGMMfv37zeRkZEedT169KiJiooyAwYM8Jh/3759JjIyMsfws5UqVcrUr1/f63bl1ucDBw40YWFhHn3RsWNHU7ly5RzTvv7660aSefnll3OMc594u/v9iiuuMIcOHXLGu09mPv7443zb6N7emzVrluPzl1v7165daySZN954wxnm3p5XrlzpMe259re7bQkJCR4nXC+88IKRZBYuXJhvW3Pr68TERCPJvPrqqzmm93YZufG2r3Lz3//+10gyb731lsfwxYsXewxfsGCBkeTs83Lj/jyEhoaa3377zRm+bt06I8njhN3b7fKJJ54wknINDGd/Ds/c/3q7/Lw0atTIVK9e3Xk9cOBA06pVK2OMMSNHjjSNGjVyxnXr1s2EhYWZzMxMY4z3+373Sf6Z+0q3ypUrG0nmq6++coYtWbLE6d89e/Y4w2fMmJHrNnA2b45n+/fvN0FBQaZt27YeYeaVV15x5nU7M3y8//77JjAw0AwYMMBjPm/r4N7e2rVr5xHsmzRpYlwulxk0aJAzLCsry1SsWNHjWFGY8wFJJigoyGPYpk2bjCQzZcqUfPsQlx4uu4Jj6tSpWrZsmZYtW6Y333xTrVq10j333KMPPvjAmeazzz6Tv7+/hg0b5jHvgw8+KGOMx9OxRo8erauvvlp9+vTR4MGDlZiYmGO+/Nx9992KiYlR+fLl1bFjRx0/flxz5szxuC/lTCkpKdq4caP69u2r0qVLO8Pr1aunG2+8UZ999pnX732m9evXa//+/Ro0aJDHvQx9+/ZVZGSkx7SfffaZypYtqx49ejjDAgMDNWzYMB07dkyrVq2SdPqStuPHj3t1edHZevXqJen0Tctu77//vk6cOOFcciVJoaGhzv/T0tJ04MABJSYm6ueff1ZaWlqey/d2Hdy6du3q8RSVQ4cOacWKFerevbuOHj2qAwcO6MCBAzp48KDatWunHTt26Pfff3f6YcuWLdqxY0eh+uCzzz5T48aNde211zrDYmJiPNZfOv30r8OHD6tHjx5OOw4cOCB/f39dd911WrlyZb7vc+TIEZUsWdLrdp3Z5+51b968udLT07Vt27YC53///fcVHR2t+++/P8c4l8vl8fr2229XqVKlnNfNmzeXJK+foDNgwAD5+/vn2f7MzEwdPHhQNWrUUFRUlL7//vsCl3mu/e127733etzIfN999ykgIMBjGy5MXwcHB6tfv3453udc6nUuffXee+8pMjJSN954o0c/JSQkKDw83Okn98MwPvnkE2VmZua7zJtvvlkVKlRwXl977bW67rrrnD4rzHb5/vvvq379+rrllltyvM/Zn0O3wiw/L82aNVNycrL27dsn6fQlWE2bNpUkXX/99dqwYYPS09Odcdddd50CAgKKtO8fNGhQrm2oU6eOmjRp4ry+7rrrJJ2+TKpSpUo5hnu7veV3PFu+fLkyMjI0fPhw+fn932nZgAEDFBERoU8//TTH8t5++23dfvvtGjhwoGbMmOHMV5Q69O/f36Ou1113nYwx6t+/vzPM399fDRs29FjfwpwPSFKbNm1UvXp153W9evUUERFh5alfuLhwwzkc1157rceJfY8ePXTNNddo6NCh6tSpk4KCgrRnzx6VL18+xwmZ+wbBPXv2OMOCgoL0+uuvq1GjRgoJCVFSUlKeB67cPPHEE2revLn8/f0VHR2tq666Ksf9J2dyv/eVV16ZY9xVV12lJUuWFOnGQvdya9as6THc/cjEs6etWbOmxwHE/f5nLmvw4MF699131aFDB1WoUEFt27ZV9+7d1b59+wLbU69ePdWtW1dvv/22Ro8eLel0EImOjla7du2c6dasWaMnn3xSa9eudQ7YbmlpaTmCU2HXwa1q1aoer3fu3CljjP71r3/pX//6V67vsX//flWoUEFPPfWUunTpolq1aqlu3bpq37697rrrLtWrVy/fPtizZ49z8D/T2bV3hxr39dVni4iIyPd9IiIidPTo0XynOdOWLVv0+OOPa8WKFTpy5IjHuPwCn1tycrKuvPLKfD/nbmeeCElygsjZ9wzk5ey6Safv13ruueeUlJSk33//3eO6bW/af6797Xb2thYeHq5y5cp53E9RmL6uUKFCrg9BOJd6nUtf7dixQ2lpaXk+GGL//v2SpMTERHXt2lVjxozRhAkT1LJlS918883q2bOngoODPeY5u88kqVatWnr33XclFW67TE5OVteuXfNdh7MVZvl5adasmSZMmKA1a9bohhtu0JYtW/TCCy9Ikpo2baqsrCx98803qly5slJSUpyn/hVl35/b51/KuV2595NxcXG5Dvd2e8vveJZX+4OCglStWrUc+9xdu3apV69euu222zRlyhSPcUWpQ2HW+cz1Lcz5QG7vI53eb3nbh7h0ED6QJz8/P7Vq1UqTJk3Sjh07dPXVVxd6GUuWLJF0+ibaHTt25LnDz018fLzatGlT6PcsDmJjY7Vx40YtWbJEixYt0qJFi5SUlKTevXvnenP62Xr16qVHHnlE69evV8WKFbVy5UoNHDjQOZglJyfrhhtuUO3atfXyyy8rLi5OQUFB+uyzzzRhwoQ8b8wuijO/AZbkLPuhhx7yCENncj/2sUWLFkpOTtbChQu1dOlSvfbaa5owYYJeffXVPB8nXBjutsydO9d5Ss6ZCjrJr127tjZu3KiMjIwCn+B1+PBhJSYmKiIiQk899ZSqV6+ukJAQff/99/rnP/95XvtcUo5fLdzOPAnOz9l1k6T7779fSUlJGj58uJo0aaLIyEi5XC7dcccdXrX/XPvbW4Xt69zW9VzrdS59lZ2drdjYWL311lu5jnf/kuhyuTR//nx9/fXX+vjjj7VkyRLdfffdeumll/T1118rPDw83/c5+z0l77bLojgfy3ff+L169WrnaWTuXyGio6NVs2ZNrV69Wr/++qvH9EWR22dCynu7Otft7Xwez8qVK6dy5crps88+0/r16z2+NCxKHQqzzt6ur7fLO9dlongifCBf7idnHDt2TNLpZ7svX75cR48e9fi2w32JQuXKlZ1hP/zwg5566in169dPGzdu1D333KP//e9/eX7jfq7c7719+/Yc47Zt26bo6Gjnm6/C/ALjXu6OHTs8vtHNzMzUrl27VL9+fY9pf/jhB2VnZ3v8cpBb/wQFBalz587q3LmzsrOzNXjwYM2YMUP/+te/CjxI9+jRQ6NGjdK8efNUuXJlnTp1yuOSo48//lgnT57URx995PFtkzeXvRRmHXLj/jUoMDDQq4Nt6dKl1a9fP/Xr10/Hjh1TixYtNHr06HzDR+XKlXO9VOvs2rt/4o+NjS3Sgb9z585au3at3n//fY/L0HLzxRdf6ODBg/rggw/UokULZ3huT2fL6/NXvXp1rVu3TpmZmefl7ycU1vz589WnTx+99NJLzrATJ07keOJOfu2Xit7fbjt27FCrVq2c18eOHVNKSopuuukmSYXr67yc6zK87avcVK9eXcuXL9f111+f50nwmRo3bqzGjRvrmWee0bx583TnnXfqP//5j8c2ktv28NNPPzlPUivMdlm9evVcn5SVn8Ju97mJjY11AkaJEiVUp04dj7/D1LRpU61Zs0a//fab/P39nWBSmH3/xejM9p/5a3pGRoZ27dqVoz9DQkL0ySefqHXr1mrfvr1WrVrlfDl4PupQmHZ7ez4AnIl7PpCnzMxMLV26VEFBQc7PqDfddJNOnTqlV155xWNa91+h7dChgzNv3759Vb58eU2aNEmzZ89WamqqRowYccHaW65cOTVo0EBz5szxOAHYvHmzli5d6py4SHIORN6cKDRs2FAxMTF69dVXlZGR4QyfPXt2jvlvuukm7du3T++8844zLCsrS1OmTFF4eLgSExMlSQcPHvSYz8/Pz7nU6OTJkwW2qVKlSmrevLneeecdvfnmm6patapzbbT0f98wnX0pSFJSUoHL9nYd8hIbG6uWLVtqxowZSklJyTH+jz/+cP5/dj+Eh4erRo0aBfbBTTfdpK+//lrffPONx3LP/ia5Xbt2ioiI0LPPPpvrNfNntiU3gwYNUrly5fTggw/m+leU9+/fr7Fjx0rKvc8zMjI0bdq0HPOVKFEi10tzunbtqgMHDuTYvs5e7oXi7++f432mTJmS49GzeW0/59rfbjNnzvSYf/r06crKynL2L4Xp67yc6zK87avcdO/eXadOndLTTz+dY1xWVpbTr3/++WeO92jQoIGknPuJDz/80ONa/m+++Ubr1q1z+qww22XXrl21adMmLViwIMd0eX0OC7P8/DRr1kwbN27U0qVLPfZp0unwsXbtWv33v/9VvXr1nBPewuz7L0Zt2rRRUFCQJk+e7NG///73v5WWlqaOHTvmmCcyMlJLlixRbGysbrzxRudR3OerDt7w9nwAOBu/fMCxaNEi5xuL/fv3a968edqxY4ceeeQR51rtzp07q1WrVnrssce0e/du1a9fX0uXLtXChQs1fPhw55vPsWPHauPGjfr8889VsmRJ1atXT0888YQef/xxdevW7YIdDMaPH68OHTqoSZMm6t+/v/766y9NmTJFkZGRzv0Rkpy/Uv3YY4/pjjvuUGBgoDp37pzrt2OBgYEaO3asBg4cqNatW+v222/Xrl27lJSUlOOej3vvvVczZsxQ37599d1336lKlSqaP3++1qxZo4kTJzoHy3vuuUeHDh1S69atVbFiRe3Zs0dTpkxRgwYNPP7AVn569eqle++9V3v37tVjjz3mMa5t27bOLysDBw7UsWPHNGvWLMXGxuZ6QCrKOuRn6tSpatasmeLj4zVgwABVq1ZNqampWrt2rX777Tdt2rRJ0umbO1u2bKmEhASVLl1a69ev1/z58zV06NB8lz9y5EjNnTtX7du31wMPPKASJUpo5syZzq82bhEREZo+fbruuusu/e1vf9Mdd9yhmJgY/fLLL/r00091/fXX53qi71aqVCktWLBAN910kxo0aODxF86///57vf322863r02bNlWpUqXUp08fDRs2TC6XS3Pnzs31ZC0hIUHvvPOO/vGPf6hRo0YKDw9X586d1bt3b73xxhv6xz/+oW+++UbNmzfX8ePHtXz5cg0ePFhdunQpsO/PRadOnTR37lxFRkaqTp06Wrt2rZYvX64rrrjCY7oGDRrI399f48aNU1pamoKDg52/KXMu/e2WkZGhG264Qd27d9f27ds1bdo0NWvWTH//+98lFa6v83Kuy/C2r3KTmJiogQMH6rnnntPGjRvVtm1bBQYGaseOHXrvvfc0adIkdevWTXPmzNG0adN0yy23qHr16jp69KhmzZqliIiIHPvQGjVqqFmzZrrvvvt08uRJTZw4UVdccYVGjhzpTOPtdvnwww9r/vz5uu2223T33XcrISFBhw4d0kcffaRXX33V49feM3m7/Pw0a9ZMSUlJ+vbbbzVkyBCPcU2bNlVaWprS0tJyPJTB233/xSgmJkajRo3SmDFj1L59e/397393PveNGjVyHjJytujoaC1btkzNmjVTmzZttHr1alWoUOG81MEb3p4PADnYeqwWLl65PWo3JCTENGjQwEyfPt3jEXzGnH6c5ogRI0z58uVNYGCgqVmzphk/frwz3XfffWcCAgLM/fff7zFfVlaWadSokSlfvrz5888/82xPXs9FP1tuj3o0xpjly5eb66+/3oSGhpqIiAjTuXNn8+OPP+aY/+mnnzYVKlQwfn5+Xj12d9q0aaZq1aomODjYNGzY0Hz55Zc5HlNrzOln8/fr189ER0eboKAgEx8fn6ON8+fPN23btjWxsbEmKCjIVKpUyQwcONCkpKTk24YzHTp0yAQHBxtJua7fRx99ZOrVq2dCQkKc5/+7H+V65roWdR3c/T9+/Phc25ecnGx69+5typYtawIDA02FChVMp06dzPz5851pxo4da6699loTFRVlQkNDTe3atc0zzzxT4N+qMMaYH374wSQmJpqQkBBToUIF8/TTT5t///vfudZy5cqVpl27diYyMtKEhISY6tWrm759+5r169cX+D7GGLN3714zYsQIU6tWLRMSEmLCwsJMQkKCeeaZZ0xaWpoz3Zo1a0zjxo1NaGioKV++vBk5cqTzqM4zH8l57Ngx07NnTxMVFWUkeTx2Nz093Tz22GOmatWqJjAw0JQtW9Z069bNJCcnG2Py73dJ5sknn8x3Xdzbe26Pb/3zzz+duoeHh5t27dqZbdu2mcqVK3v8/QVjjJk1a5apVq2a8ff3z7F+Re1vd9tWrVpl7r33XlOqVCkTHh5u7rzzTo9HqBrjfV+f/XcRirKM3BSmr/Iyc+ZMk5CQYEJDQ03JkiVNfHy8GTlypNm7d68xxpjvv//e9OjRw1SqVMkEBweb2NhY06lTJ49+PPPz8NJLL5m4uDgTHBxsmjdvbjZt2pTjPb3ZLo0x5uDBg2bo0KGmQoUKJigoyFSsWNH06dPH+ZsMee1/vV1+XrZv3+4ch3766SePcdnZ2c4288477+SY15t9v/tRu3/88UeO+StXrpzro78lmSFDhngMK2j/5+bt8cyY04/WrV27tgkMDDRlypQx9913X45jZW6f5507d5py5cqZq666ylkvb+qQ174grz7q06ePKVGihMewgs4H3HLrQ2NMobYXXDpcxnCnDwDA92bPnq1+/frp22+/zfOR2vC0e/duVa1aVePHj9dDDz3k6+YAQIG45wMAAACAFYQPAAAAAFYQPgAAAABYwT0fAAAAAKzglw8AAAAAVhA+AAAAAFhB+AAAAABgRZH/wnl2drb27t2rkiVLyuVync82AQAAAChGjDE6evSoypcvLz+/vH/fKHL42Lt3r+Li4oo6OwAAAIBLzK+//qqKFSvmOb7I4aNkyZLOG0RERBR1MedFZmamli5dqrZt2yowMNCnbUHBqFfxQ82KF+pV/FCz4oV6FS/Uy44jR44oLi7OyQh5KXL4cF9qFRERcVGEj7CwMEVERPChKgaoV/FDzYoX6lX8ULPihXoVL9TLroJux+CGcwAAAABWED4AAAAAWEH4AAAAAGAF4QMAAACAFYQPAAAAAFYQPgAAAABYQfgAAAAAYAXhAwAAAIAVhA8AAAAAVhA+AAAAAFhB+AAAAABgBeEDAAAAgBWEDwAAAABWED4AAAAAWEH4AAAAAGAF4QMAAACAFYQPAAAAAFYQPgAAAABYQfgAAAAAYAXhAwAAAIAVhA8AAAAAVhA+AAAAAFhB+AAAAABgBeEDAAAAgBWEDwAAAABWED4AAAAAWEH4AAAAAGAF4QMAAACAFYQPAAAAAFYQPgAAAABYQfgAAAAAYAXhAwAAAIAVhA8AAAAAVhA+AAAAAFhB+AAAAABgBeEDAAAAgBWEDwAAAABWED4AAAAAWEH4AAAAAGAF4QMAAACAFYQPAAAAAFYQPgAAAABYEeDrBgAAirfU1FSlpaX5uhnFWlZWllJTU7Vjxw4FBHBovthRr+LlUq9XZGSkypQp4+tmeO3SqwAAwJrU1FT1uqu3MjNO+ropl4R58+b5ugkoBOpVvFyq9fLz89e0aVNVu3ZtXzfFK4QPAECRpaWlKTPjpP6qlqjskEhfNwcALiv+ab8p5Pfv9euvvxI+AACXj+yQSGWXiPZ1MwDgsuL312FfN6HQuOEcAAAAgBWEDwAAAABWED4AAAAAWEH4AAAAAGAF4QMAAACAFYQPAAAAAFYQPgAAAABYQfgAAAAAYAXhAwAAAIAVhA8AAAAAVhA+AAAAAFhB+AAAAABgBeEDAAAAgBWEDwAAAABWED4AAAAAWEH4AAAAAGAF4QMAAACAFYQPAAAAAFYQPgAAAABYQfgAAAAAYAXhAwAAAIAVhA8AAAAAVhA+AAAAAFhB+AAAAABgBeEDAAAAgBWEDwAAAABWED4AAAAAWEH4AAAAAGAF4QMAAACAFYQPAAAAAFYQPgAAAABYQfgAAAAAYAXhAwAAAIAVhA8AAAAAVhA+AAAAAFhB+AAAAABgBeEDAAAAgBWEDwAAAABWED4AAAAAWEH4AAAAAGAF4QMAAACAFYQPAAAAAFYQPgAAAABYQfgAAAAAYAXhAwAAAIAVhA8AAAAAVhA+AAAAAFhB+AAAAABgBeEDAAAAgBWEDwAAAABWED4AAAAAWEH4AAAAAGAF4QMAAACAFYQPAAAAAFYQPgAAAABYQfgAAAAAYAXhAwAAAIAVhA8AAAAAVhA+AAAAAFhB+AAAAABgBeEDAAAAgBWEDwAAAABWED4AAAAAWEH4AAAAAGAF4QMAAACAFYQPAAAAAFYQPgAAAABYQfgAAAAAYAXhAwAAAIAVhA8AAAAAVhA+AAAAAFhB+AAAAABgBeEDAAAAgBWEDwAAAABWED4AAAAAWEH4AAAAAGAF4QMAAACAFYQPAAAAAFYQPgAAAABYQfgAAAAAYAXhAwAAAIAVhA8AAAAAVhA+AAAAAFhB+AAAAABgBeEDAAAAgBWEDwAAAABWED4AAAAAWEH4AAAAAGDFJRE+Tpw4odTUVJ04ccLXTQEAAADsMKckSZmZmT5uiPcuifDx66+/at68efr111993RQAAADACldGuiTpwIEDPm6J9y6J8AEAAADg4kf4AAAAAGAF4QMAAACAFYQPAAAAAFYQPgAAAABYQfgAAAAAYAXhAwAAAIAVhA8AAAAAVhA+AAAAAFhB+AAAAABgBeEDAAAAgBWEDwAAAABWED4AAAAAWEH4AAAAAGAF4QMAAACAFYQPAAAAAFYQPgAAAABYQfgAAAAAYAXhAwAAAIAVhA8AAAAAVhA+AAAAAFhB+AAAAABgBeEDAAAAgBWEDwAAAABWED4AAAAAWEH4AAAAAGAF4QMAAACAFYQPAAAAAFYQPgAAAABYQfgAAAAAYAXhAwAAAIAVhA8AAAAAVhA+AAAAAFhB+AAAAABgBeEDAAAAgBWEDwAAAABWED4AAAAAWEH4AAAAAGAF4QMAAACAFYQPAAAAAFYQPgAAAABYQfgAAAAAYAXhAwAAAIAVhA8AAAAAVhA+AAAAAFhB+AAAAABgBeEDAAAAgBWEDwAAAABWED4AAAAAWEH4AAAAAGAF4QMAAACAFYQPAAAAAFYQPgAAAABYQfgAAAAAYAXhAwAAAIAVhA8AAAAAVhA+AAAAAFhB+AAAAABgBeEDAAAAgBWEDwAAAABWED4AAAAAWEH4AAAAAGAF4QMAAACAFYQPAAAAAFYQPgAAAABYQfgAAAAAYAXhAwAAAIAVhA8AAAAAVhA+AAAAAFhB+AAAAABgBeEDAAAAgBWEDwAAAABWED4AAAAAWEH4AAAAAGAF4QMAAACAFYQPAAAAAFYQPgAAAABYQfgAAAAAYAXhAwAAAIAVhA8AAAAAVhA+AAAAAFhB+AAAAABgBeEDAAAAgBWEDwAAAABWED4AAAAAWEH4AAAAAGAF4QMAAACAFYQPAAAAAFYQPgAAAABYQfgAAAAAYAXhAwAAAIAVAd5OePLkSZ08edJ5feTIEUlSZmamMjMzz3/LCiErK0uStGvXLp+2A97JyspSamqqtm7dqoAArz+C8CFqVrzYrNcvv/xyQZcPAChYdna2z8/HvX1/lzHGeDPh6NGjNWbMmBzD582bp7CwsMK17jxLTU3VvHnzfNoGALicHa/zd2WXiPZ1MwDgshL4+waF7N2gJk2aqHHjxj5tS3p6unr27Km0tDRFRETkOZ3X4SO3Xz7i4uJ04MCBfN/Ahq1bt2rYsGF6+OGHVbVqVZ+2BQXLysrS119/rcaNG/MtejFBzYoXm/X65Zdf9PzzzxM+AMAH3OGjb9++uvPOO33aliNHjig6OrrA8OH1USk4OFjBwcE5hgcGBiowMLBorTxP3AfXqlWrqk6dOj5tCwqWmZmpXbt26aqrrvL5ZwfeoWbFi816EUYBwPf8/Px8fnz29v254RwAAACAFYQPAAAAAFYQPgAAAABYQfgAAAAAYAXhAwAAAIAVhA8AAAAAVhA+AAAAAFhB+AAAAABgBeEDAAAAgBWEDwAAAABWED4AAAAAWEH4AAAAAGAF4QMAAACAFYQPAAAAAFYQPgAAAABYQfgAAAAAYAXhAwAAAIAVhA8AAAAAVhA+AAAAAFhB+AAAAABgBeEDAAAAgBWEDwAAAABWED4AAAAAWEH4AAAAAGAF4QMAAACAFYQPAAAAAFYQPgAAAABYQfgAAAAAYAXhAwAAAIAVhA8AAAAAVhA+AAAAAFhB+AAAAABgBeEDAAAAgBWEDwAAAABWED4AAAAAWEH4AAAAAGAF4QMAAACAFYQPAAAAAFYQPgAAAABYQfgAAAAAYAXhAwAAAIAVhA8AAAAAVhA+AAAAAFhB+AAAAABgBeEDAAAAgBWEDwAAAABWED4AAAAAWEH4AAAAAGAF4QMAAACAFYQPAAAAAFYQPgAAAABYQfgAAAAAYAXhAwAAAIAVhA8AAAAAVhA+AAAAAFhB+AAAAABgBeEDAAAAgBWEDwAAAABWED4AAAAAWEH4AAAAAGAF4QMAAACAFYQPAAAAAFYQPgAAAABYQfgAAAAAYAXhAwAAAIAVhA8AAAAAVhA+AAAAAFhB+AAAAABgBeEDAAAAgBWEDwAAAABWED4AAAAAWEH4AAAAAGAF4QMAAACAFYQPAAAAAFYQPgAAAABYQfgAAAAAYAXhAwAAAIAVhA8AAAAAVhA+AAAAAFhB+AAAAABgBeEDAAAAgBWEDwAAAABWED4AAAAAWEH4AAAAAGAF4QMAAACAFYQPAAAAAFYQPgAAAABYQfgAAAAAYAXhAwAAAIAVhA8AAAAAVlwS4SMuLk49e/ZUXFycr5sCAAAAWGGCwiRJ0dHRPm6J9y6J8BESEqIyZcooJCTE100BAAAA7HD5S5ICAwN93BDvXRLhAwAAAMDFj/ABAAAAwArCBwAAAAArCB8AAAAArCB8AAAAALCC8AEAAADACsIHAAAAACsIHwAAAACsIHwAAAAAsILwAQAAAMAKwgcAAAAAKwgfAAAAAKwgfAAAAACwgvABAAAAwArCBwAAAAArCB8AAAAArCB8AAAAALCC8AEAAADACsIHAAAAACsIHwAAAACsIHwAAAAAsILwAQAAAMAKwgcAAAAAKwgfAAAAAKwgfAAAAACwgvABAAAAwArCBwAAAAArCB8AAAAArCB8AAAAALCC8AEAAADACsIHAAAAACsIHwAAAACsIHwAAAAAsILwAQAAAMAKwgcAAAAAKwgfAAAAAKwgfAAAAACwgvABAAAAwArCBwAAAAArCB8AAAAArCB8AAAAALCC8AEAAADACsIHAAAAACsIHwAAAACsIHwAAAAAsILwAQAAAMAKwgcAAAAAKwgfAAAAAKwgfAAAAACwgvABAAAAwArCBwAAAAArCB8AAAAArCB8AAAAALCC8AEAAADACsIHAAAAACsIHwAAAACsIHwAAAAAsILwAQAAAMAKwgcAAAAAKwgfAAAAAKwgfAAAAACwgvABAAAAwArCBwAAAAArCB8AAAAArCB8AAAAALCC8AEAAADACsIHAAAAACsIHwAAAACsIHwAAAAAsILwAQAAAMAKwgcAAAAAKwgfAAAAAKwgfAAAAACwgvABAAAAwArCBwAAAAArCB8AAAAArCB8AAAAALCC8AEAAADACsIHAAAAACsIHwAAAACsIHwAAAAAsILwAQAAAMAKwgcAAAAAKwgfAAAAAKwgfAAAAACwgvABAAAAwArCBwAAAAArCB8AAAAArCB8AAAAALAiwNcNAAAUf34n0nzdBAC47Lgyjvm6CYVG+AAAFFlkZKQCg4Kln1f5uikAcFny8/NXXFycr5vhNcIHAKDIypQpozfnvqG0NH75OBdZWVlavXq1mjVrpoAADs0XO+pVvFzq9YqMjFSZMmV83QyvXXoVAABYVaZMmWJ14LsYZWZmaseOHapZs6YCAwN93RwUgHoVL9Tr4sIN5wAAAACsIHwAAAAAsILwAQAAAMAKwgcAAAAAKwgfAAAAAKwgfAAAAACwgvABAAAAwArCBwAAAAArCB8AAAAArCB8AAAAALCC8AEAAADACsIHAAAAACsIHwAAAACsIHwAAAAAsILwAQAAAMAKwgcAAAAAKwgfAAAAAKwgfAAAAACwgvABAAAAwArCBwAAAAArCB8AAAAArCB8AAAAALCC8AEAAADACsIHAAAAACsIHwAAAACsIHwAAAAAsILwAQAAAMAKwgcAAAAAKwgfAAAAAKwgfAAAAACwgvABAAAAwArCBwAAAAArCB8AAAAArCB8AAAAALCC8AEAAADACsIHAAAAACsIHwAAAACsIHwAAAAAsILwAQAAAMAKwgcAAAAAKwgfAAAAAKwgfAAAAACwIqCoMxpjJElHjhw5b40pqszMTKWnp+vIkSMKDAz0dXNQAOpV/FCz4oV6FT/UrHihXsUL9bLDnQncGSEvRQ4fR48elSTFxcUVdREAAAAALiFHjx5VZGRknuNdpqB4kofs7Gzt3btXJUuWlMvlKnIDz4cjR44oLi5Ov/76qyIiInzaFhSMehU/1Kx4oV7FDzUrXqhX8UK97DDG6OjRoypfvrz8/PK+s6PIv3z4+fmpYsWKRZ39goiIiOBDVYxQr+KHmhUv1Kv4oWbFC/UqXqjXhZffLx5u3HAOAAAAwArCBwAAAAArLonwERwcrCeffFLBwcG+bgq8QL2KH2pWvFCv4oeaFS/Uq3ihXheXIt9wDgAAAACFcUn88gEAAADg4kf4AAAAAGAF4QMAAACAFYQPAAAAAFZctOHjyy+/VOfOnVW+fHm5XC59+OGHHuNTU1PVt29flS9fXmFhYWrfvr127NjhMc2JEyc0ZMgQXXHFFQoPD1fXrl2VmppqcS0uH88995waNWqkkiVLKjY2VjfffLO2b9/uMY039fjll1/UsWNHhYWFKTY2Vg8//LCysrJsrsplw5uazZw5Uy1btlRERIRcLpcOHz6cYzmHDh3SnXfeqYiICEVFRal///46duyYpbW4fBRUr0OHDun+++/XlVdeqdDQUFWqVEnDhg1TWlqax3LYxuzxZhsbOHCgqlevrtDQUMXExKhLly7atm2bxzTUzA5v6uVmjFGHDh1yPT+hXnZ4U6+WLVvK5XJ5/Bs0aJDHNNTLvos2fBw/flz169fX1KlTc4wzxujmm2/Wzz//rIULF2rDhg2qXLmy2rRpo+PHjzvTjRgxQh9//LHee+89rVq1Snv37tWtt95qczUuG6tWrdKQIUP09ddfa9myZcrMzFTbtm0LVY9Tp06pY8eOysjI0FdffaU5c+Zo9uzZeuKJJ3yxSpc8b2qWnp6u9u3b69FHH81zOXfeeae2bNmiZcuW6ZNPPtGXX36pe++918YqXFYKqtfevXu1d+9evfjii9q8ebNmz56txYsXq3///s4y2Mbs8mYbS0hIUFJSkrZu3aolS5bIGKO2bdvq1KlTkqiZTd7Uy23ixIlyuVw5hlMve7yt14ABA5SSkuL8e+GFF5xx1MtHTDEgySxYsMB5vX37diPJbN682Rl26tQpExMTY2bNmmWMMebw4cMmMDDQvPfee840W7duNZLM2rVrrbX9crV//34jyaxatcoY4109PvvsM+Pn52f27dvnTDN9+nQTERFhTp48aXcFLkNn1+xMK1euNJLMn3/+6TH8xx9/NJLMt99+6wxbtGiRcblc5vfff7/QTb6s5Vcvt3fffdcEBQWZzMxMYwzbmK95U7NNmzYZSWbnzp3GGGrmS3nVa8OGDaZChQomJSUlx/kJ9fKd3OqVmJhoHnjggTznoV6+cdH+8pGfkydPSpJCQkKcYX5+fgoODtbq1aslSd99950yMzPVpk0bZ5ratWurUqVKWrt2rd0GX4bcl3qULl1aknf1WLt2reLj41WmTBlnmnbt2unIkSPasmWLxdZfns6umTfWrl2rqKgoNWzY0BnWpk0b+fn5ad26dee9jfg/3tQrLS1NERERCggIkMQ25msF1ez48eNKSkpS1apVFRcXJ4ma+VJu9UpPT1fPnj01depUlS1bNsc81Mt38tq+3nrrLUVHR6tu3boaNWqU0tPTnXHUyzeKZfhwn7SOGjVKf/75pzIyMjRu3Dj99ttvSklJkSTt27dPQUFBioqK8pi3TJky2rdvnw9affnIzs7W8OHDdf3116tu3bqSvKvHvn37PHYA7vHucbhwcquZN/bt26fY2FiPYQEBASpdujQ1u4C8qdeBAwf09NNPe1wCxzbmO/nVbNq0aQoPD1d4eLgWLVqkZcuWKSgoSBI185W86jVixAg1bdpUXbp0yXU+6uUbedWrZ8+eevPNN7Vy5UqNGjVKc+fOVa9evZzx1Ms3AnzdgKIIDAzUBx98oP79+6t06dLy9/dXmzZt1KFDBxn+YLvPDRkyRJs3b3Z+hcLFj5oVLwXV68iRI+rYsaPq1Kmj0aNH220ccpVfze68807deOONSklJ0Ysvvqju3btrzZo1Hr/uw67c6vXRRx9pxYoV2rBhgw9bhtzktX2d+eVLfHy8ypUrpxtuuEHJycmqXr267Wbi/yuWv3xIp2/S27hxow4fPqyUlBQtXrxYBw8eVLVq1SRJZcuWVUZGRo6n86Smpub6UynOj6FDh+qTTz7RypUrVbFiRWe4N/UoW7ZsjqdfuV9Tswsnr5p5o2zZstq/f7/HsKysLB06dIiaXSAF1evo0aNq3769SpYsqQULFigwMNAZxzbmGwXVLDIyUjVr1lSLFi00f/58bdu2TQsWLJBEzXwhr3qtWLFCycnJioqKUkBAgHM5Y9euXdWyZUtJ1MsXCnMMu+666yRJO3fulES9fKXYhg+3yMhIxcTEaMeOHVq/fr3zU2hCQoICAwP1+eefO9Nu375dv/zyi5o0aeKr5l6yjDEaOnSoFixYoBUrVqhq1aoe472pR5MmTfS///3P42R22bJlioiIUJ06deysyGWkoJp5o0mTJjp8+LC+++47Z9iKFSuUnZ3t7ORxfnhTryNHjqht27YKCgrSRx99lOObc7Yxu4qyjRljZIxx7m2kZvYUVK9HHnlEP/zwgzZu3Oj8k6QJEyYoKSlJEvWyqSjbl7tm5cqVk0S9fMZnt7oX4OjRo2bDhg1mw4YNRpJ5+eWXzYYNG8yePXuMMaef4rJy5UqTnJxsPvzwQ1O5cmVz6623eixj0KBBplKlSmbFihVm/fr1pkmTJqZJkya+WJ1L3n333WciIyPNF198YVJSUpx/6enpzjQF1SMrK8vUrVvXtG3b1mzcuNEsXrzYxMTEmFGjRvlilS553tQsJSXFbNiwwcyaNctIMl9++aXZsGGDOXjwoDNN+/btzTXXXGPWrVtnVq9ebWrWrGl69Ojhi1W6pBVUr7S0NHPdddeZ+Ph4s3PnTo9psrKyjDFsY7YVVLPk5GTz7LPPmvXr15s9e/aYNWvWmM6dO5vSpUub1NRUYww1s8mbfeLZdNbTrqiXPQXVa+fOneapp54y69evN7t27TILFy401apVMy1atHCWQb1846INH+5He579r0+fPsYYYyZNmmQqVqxoAgMDTaVKlczjjz+e47Fof/31lxk8eLApVaqUCQsLM7fccotJSUnxwdpc+nKrlSSTlJTkTONNPXbv3m06dOhgQkNDTXR0tHnwwQedx4Ti/PKmZk8++WSB0xw8eND06NHDhIeHm4iICNOvXz9z9OhR+yt0iSuoXnntMyWZXbt2OcthG7OnoJr9/vvvpkOHDiY2NtYEBgaaihUrmp49e5pt27Z5LIea2eHNPjG3ec4MH8ZQL1sKqtcvv/xiWrRoYUqXLm2Cg4NNjRo1zMMPP2zS0tI8lkO97HMZwx3aAAAAAC68Yn/PBwAAAIDigfABAAAAwArCBwAAAAArCB8AAAAArCB8AAAAALCC8AEAAADACsIHAAAAACsIHwCAQvniiy/kcrl0+PBhXzcFAFDMED4AoJjat2+f7r//flWrVk3BwcGKi4tT586d9fnnn3u9jNmzZysqKurCNfI8aNmypYYPH+7rZgAAzoMAXzcAAFB4u3fv1vXXX6+oqCiNHz9e8fHxyszM1JIlSzRkyBBt27bN100sUGZmpgIDA33dDACARfzyAQDF0ODBg+VyufTNN9+oa9euqlWrlq6++mr94x//0Ndff+1M9/LLLys+Pl4lSpRQXFycBg8erGPHjkk6fflUv379lJaWJpfLJZfLpdGjR0uSTp48qX/+85+Ki4tTcHCwatSooX//+98ebfjuu+/UsGFDhYWFqWnTptq+fXue7d29e7dcLpfeeecdJSYmKiQkRG+99ZYOHjyoHj16qEKFCgoLC1N8fLzefvttZ76+fftq1apVmjRpktPG3bt3S5I2b96sDh06KDw8XGXKlNFdd92lAwcOnKceBgBcCIQPAChmDh06pMWLF2vIkCEqUaJEjvFnXkbl5+enyZMna8uWLZozZ45WrFihkSNHSpKaNm2qiRMnKiIiQikpKUpJSdFDDz0kSerdu7fefvttTZ48WVu3btWMGTMUHh7u8T6PPfaYXnrpJa1fv14BAQG6++67C2z7I488ogceeEBbt25Vu3btdOLECSUkJOjTTz/V5s2bde+99+quu+7SN998I0maNGmSmjRpogEDBjhtjIuL0+HDh9W6dWtdc801Wr9+vRYvXqzU1FR17969qN0KALCAy64AoJjZuXOnjDGqXbt2gdOeea9ElSpVNHbsWA0aNEjTpk1TUFCQIiMj5XK5VLZsWWe6n376Se+++66WLVumNm3aSJKqVauWY9nPPPOMEhMTJZ0OFR07dtSJEycUEhKSb3tuvfVWj2HuwCNJ999/v5YsWaJ3331X1157rSIjIxUUFKSwsDCPNr7yyiu65ppr9OyzzzrDXn/9dcXFxemnn35SrVq1CuwbAIB9hA8AKGaMMV5Pu3z5cj333HPatm2bjhw5oqysLJ04cULp6ekKCwvLdZ6NGzfK39/fCRZ5qVevnvP/cuXKSZL279+vSpUq5TlPw4YNPV6fOnVKzz77rN599139/vvvysjI0MmTJ/Nsm9umTZu0cuXKHL/GSFJycjLhAwAuUoQPAChmatasKZfLVeBN5bt371anTp1033336ZlnnlHp0qW1evVq9e/fXxkZGXme4IeGhnrVjjNvFne5XJKk7OzsfOc5+zKx8ePHa9KkSZo4caJzb8rw4cOVkZGR73KOHTumzp07a9y4cTnGuYMQAODiwz0fAFDMlC5dWu3atdPUqVN1/PjxHOPdf3/ju+++U3Z2tl566SU1btxYtWrV0t69ez2mDQoK0qlTpzyGxcfHKzs7W6tWrbpg6+C2Zs0adenSRb169VL9+vVVrVo1/fTTTwW28W9/+5u2bNmiKlWqqEaNGh7/crsPBgBwcSB8AEAxNHXqVJ06dUrXXnut3n//fe3YsUNbt27V5MmT1aRJE0lSjRo1lJmZqSlTpujnn3/W3Llz9eqrr3osp0qVKjp27Jg+//xzHThwQOnp6apSpYr69Omju+++Wx9++KF27dqlL774Qu++++55X4+aNWtq2bJl+uqrr7R161YNHDhQqampOdq4bt067d69WwcOHFB2draGDBmiQ4cOqUePHvr222+VnJysJUuWqF+/fjmCCgDg4kH4AIBiqFq1avr+++/VqlUrPfjgg6pbt65uvPFGff7555o+fbokqX79+nr55Zc1btw41a1bV2+99Zaee+45j+U0bdpUgwYN0u23366YmBi98MILkqTp06erW7duGjx4sGrXrq0BAwbk+ivLuXr88cf1t7/9Te3atVPLli1VtmxZ3XzzzR7TPPTQQ/L391edOnUUExOjX375ReXLl9eaNWt06tQptW3bVvHx8Ro+fLiioqLk58ehDQAuVi5TmDsXAQAAAKCI+HoIAAAAgBWEDwAAAABWED4AAAAAWEH4AAAAAGAF4QMAAACAFYQPAAAAAFYQPgAAAABYQfgAAAAAYAXhAwAAAIAVhA8AAAAAVhA+AAAAAFhB+AAAAABgxf8DsgjkyTzbTmIAAAAASUVORK5CYII=\n",
                  "text/plain": "<Figure size 1000x600 with 1 Axes>"
                },
                "metadata": {},
                "output_type": "display_data"
              }
            ]
          }
        },
        "785dce4f0b254899a7a952a1e58bd434": {
          "model_module": "@jupyter-widgets/controls",
          "model_module_version": "1.5.0",
          "model_name": "DescriptionStyleModel",
          "state": {
            "_model_module": "@jupyter-widgets/controls",
            "_model_module_version": "1.5.0",
            "_model_name": "DescriptionStyleModel",
            "_view_count": null,
            "_view_module": "@jupyter-widgets/base",
            "_view_module_version": "1.2.0",
            "_view_name": "StyleView",
            "description_width": ""
          }
        },
        "7e3635d1a9bb4383a15f1cc5d50500ae": {
          "model_module": "@jupyter-widgets/controls",
          "model_module_version": "1.5.0",
          "model_name": "DescriptionStyleModel",
          "state": {
            "_model_module": "@jupyter-widgets/controls",
            "_model_module_version": "1.5.0",
            "_model_name": "DescriptionStyleModel",
            "_view_count": null,
            "_view_module": "@jupyter-widgets/base",
            "_view_module_version": "1.2.0",
            "_view_name": "StyleView",
            "description_width": ""
          }
        },
        "87e9faf52f3c426da99377554e5732f6": {
          "model_module": "@jupyter-widgets/base",
          "model_module_version": "1.2.0",
          "model_name": "LayoutModel",
          "state": {
            "_model_module": "@jupyter-widgets/base",
            "_model_module_version": "1.2.0",
            "_model_name": "LayoutModel",
            "_view_count": null,
            "_view_module": "@jupyter-widgets/base",
            "_view_module_version": "1.2.0",
            "_view_name": "LayoutView",
            "align_content": null,
            "align_items": null,
            "align_self": null,
            "border": null,
            "bottom": null,
            "display": null,
            "flex": null,
            "flex_flow": null,
            "grid_area": null,
            "grid_auto_columns": null,
            "grid_auto_flow": null,
            "grid_auto_rows": null,
            "grid_column": null,
            "grid_gap": null,
            "grid_row": null,
            "grid_template_areas": null,
            "grid_template_columns": null,
            "grid_template_rows": null,
            "height": null,
            "justify_content": null,
            "justify_items": null,
            "left": null,
            "margin": null,
            "max_height": null,
            "max_width": null,
            "min_height": null,
            "min_width": null,
            "object_fit": null,
            "object_position": null,
            "order": null,
            "overflow": null,
            "overflow_x": null,
            "overflow_y": null,
            "padding": null,
            "right": null,
            "top": null,
            "visibility": null,
            "width": null
          }
        },
        "8ff27fed5e404be19481a559febae7a2": {
          "model_module": "@jupyter-widgets/controls",
          "model_module_version": "1.5.0",
          "model_name": "VBoxModel",
          "state": {
            "_dom_classes": [
              "widget-interact"
            ],
            "_model_module": "@jupyter-widgets/controls",
            "_model_module_version": "1.5.0",
            "_model_name": "VBoxModel",
            "_view_count": null,
            "_view_module": "@jupyter-widgets/controls",
            "_view_module_version": "1.5.0",
            "_view_name": "VBoxView",
            "box_style": "",
            "children": [
              "IPY_MODEL_21db1b75eb8c461aaea5721fd4593e71",
              "IPY_MODEL_d044a805996c4edbbf64d440e8334c34",
              "IPY_MODEL_34ee2115bc7c4eee9cd28b5d10375cd5",
              "IPY_MODEL_66b8183637314c57a3ed600688eeeae1"
            ],
            "layout": "IPY_MODEL_4d40a4c90a8d4c72b6548bbe5145a076"
          }
        },
        "977a5e2b0e454e7dba0fda0bf203c383": {
          "model_module": "@jupyter-widgets/base",
          "model_module_version": "1.2.0",
          "model_name": "LayoutModel",
          "state": {
            "_model_module": "@jupyter-widgets/base",
            "_model_module_version": "1.2.0",
            "_model_name": "LayoutModel",
            "_view_count": null,
            "_view_module": "@jupyter-widgets/base",
            "_view_module_version": "1.2.0",
            "_view_name": "LayoutView",
            "align_content": null,
            "align_items": null,
            "align_self": null,
            "border": null,
            "bottom": null,
            "display": null,
            "flex": null,
            "flex_flow": null,
            "grid_area": null,
            "grid_auto_columns": null,
            "grid_auto_flow": null,
            "grid_auto_rows": null,
            "grid_column": null,
            "grid_gap": null,
            "grid_row": null,
            "grid_template_areas": null,
            "grid_template_columns": null,
            "grid_template_rows": null,
            "height": null,
            "justify_content": null,
            "justify_items": null,
            "left": null,
            "margin": null,
            "max_height": null,
            "max_width": null,
            "min_height": null,
            "min_width": null,
            "object_fit": null,
            "object_position": null,
            "order": null,
            "overflow": null,
            "overflow_x": null,
            "overflow_y": null,
            "padding": null,
            "right": null,
            "top": null,
            "visibility": null,
            "width": null
          }
        },
        "d044a805996c4edbbf64d440e8334c34": {
          "model_module": "@jupyter-widgets/controls",
          "model_module_version": "1.5.0",
          "model_name": "DropdownModel",
          "state": {
            "_dom_classes": [],
            "_model_module": "@jupyter-widgets/controls",
            "_model_module_version": "1.5.0",
            "_model_name": "DropdownModel",
            "_options_labels": [
              "Seed Pokémon",
              "Flame Pokémon",
              "Shellfish Pokémon",
              "Worm Pokémon",
              "Cocoon Pokémon",
              "Tiny Bird Pokémon",
              "Mouse Pokémon",
              "Fairy Pokémon",
              "Fox Pokémon",
              "Balloon Pokémon",
              "Bat Pokémon",
              "Flower Pokémon",
              "Mushroom Pokémon",
              "Mole Pokémon",
              "Scout Pokémon",
              "Tadpole Pokémon",
              "Psi Pokémon",
              "Superpower Pokémon",
              "Sea Lion Pokémon",
              "Bivalve Pokémon",
              "Dragon Pokémon",
              "Virtual Pokémon",
              "Fossil Pokémon",
              "Big Jaw Pokémon",
              "Cottonweed Pokémon",
              "Sun Pokémon",
              "Bagworm Pokémon",
              "Mud Fish Pokémon",
              "Bite Pokémon",
              "Emotion Pokémon",
              "Iron Armor Pokémon",
              "Coal Pokémon",
              "Vibration Pokémon",
              "Fruit Pokémon",
              "Penguin Pokémon",
              "Rabbit Pokémon",
              "Puppy Pokémon",
              "Ore Pokémon",
              "Muscular Pokémon",
              "Gear Pokémon",
              "EleFish Pokémon",
              "Mount Pokémon",
              "Scaly Pokémon",
              "Land Spirit Pokémon",
              "Olive Pokémon",
              "Rock Salt Pokémon",
              "Paradox Pokémon",
              "Ruinous Pokémon",
              "Retainer Pokémon"
            ],
            "_view_count": null,
            "_view_module": "@jupyter-widgets/controls",
            "_view_module_version": "1.5.0",
            "_view_name": "DropdownView",
            "description": "Espécie:",
            "description_tooltip": null,
            "disabled": false,
            "index": 3,
            "layout": "IPY_MODEL_62895284994346e58267a4bc7ae4420e",
            "style": "IPY_MODEL_1eb1ab66e81042cf96fbd27db315bb4b"
          }
        },
        "efa8106c475d424d8ec458674d33b618": {
          "model_module": "@jupyter-widgets/base",
          "model_module_version": "1.2.0",
          "model_name": "LayoutModel",
          "state": {
            "_model_module": "@jupyter-widgets/base",
            "_model_module_version": "1.2.0",
            "_model_name": "LayoutModel",
            "_view_count": null,
            "_view_module": "@jupyter-widgets/base",
            "_view_module_version": "1.2.0",
            "_view_name": "LayoutView",
            "align_content": null,
            "align_items": null,
            "align_self": null,
            "border": null,
            "bottom": null,
            "display": null,
            "flex": null,
            "flex_flow": null,
            "grid_area": null,
            "grid_auto_columns": null,
            "grid_auto_flow": null,
            "grid_auto_rows": null,
            "grid_column": null,
            "grid_gap": null,
            "grid_row": null,
            "grid_template_areas": null,
            "grid_template_columns": null,
            "grid_template_rows": null,
            "height": null,
            "justify_content": null,
            "justify_items": null,
            "left": null,
            "margin": null,
            "max_height": null,
            "max_width": null,
            "min_height": null,
            "min_width": null,
            "object_fit": null,
            "object_position": null,
            "order": null,
            "overflow": null,
            "overflow_x": null,
            "overflow_y": null,
            "padding": null,
            "right": null,
            "top": null,
            "visibility": null,
            "width": null
          }
        }
      }
    }
  },
  "nbformat": 4,
  "nbformat_minor": 0
}
